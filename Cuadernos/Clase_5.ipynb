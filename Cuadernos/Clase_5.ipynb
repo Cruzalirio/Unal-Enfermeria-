{
  "nbformat": 4,
  "nbformat_minor": 0,
  "metadata": {
    "colab": {
      "provenance": []
    },
    "kernelspec": {
      "name": "ir",
      "display_name": "R"
    },
    "language_info": {
      "name": "R"
    }
  },
  "cells": [
    {
      "cell_type": "markdown",
      "source": [
        "# Fundamentos de Metodología Estadística\n",
        "\n"
      ],
      "metadata": {
        "id": "xGZ8IgLZB0U2"
      }
    },
    {
      "cell_type": "markdown",
      "source": [
        "## La probabilidad es un terreno fangoso\n",
        "\n",
        "1. Leer el problema de Monty Hall \n",
        "2. Leer la historia de Marylin Von Savant [acá](https://www.elconfidencial.com/alma-corazon-vida/2017-10-02/corregir-mujer-mas-lista-mundo-acertijo_1453729/) y [acá](https://www3.nd.edu/~rwilliam/stats1/appendices/Monty-Marilyn.pdf)"
      ],
      "metadata": {
        "id": "tDkxRO8L73R8"
      }
    },
    {
      "cell_type": "markdown",
      "source": [
        "### Ejercicio pequeño\n",
        "\n",
        "1. Vamos a crear un número entre 0 y 1, aleatorio\n",
        "2. Vamos a lanzar una moneda en R. ¿Qué sucede?\n",
        "3. Vamos a lanzar 100 monedas en R. ¿Que sucede?"
      ],
      "metadata": {
        "id": "i5N3aguDy1xe"
      }
    },
    {
      "cell_type": "code",
      "source": [
        "library(tidyverse)\n",
        "aleatorio = runif(1)\n",
        "aleatorio"
      ],
      "metadata": {
        "colab": {
          "base_uri": "https://localhost:8080/",
          "height": 260
        },
        "id": "vcWwPZDty4GL",
        "outputId": "529a1c0e-fa01-42bd-e43a-9c7ab064f263"
      },
      "execution_count": null,
      "outputs": [
        {
          "output_type": "stream",
          "name": "stderr",
          "text": [
            "Warning message in system(\"timedatectl\", intern = TRUE):\n",
            "“running command 'timedatectl' had status 1”\n",
            "── \u001b[1mAttaching packages\u001b[22m ─────────────────────────────────────── tidyverse 1.3.1 ──\n",
            "\n",
            "\u001b[32m✔\u001b[39m \u001b[34mggplot2\u001b[39m 3.4.1     \u001b[32m✔\u001b[39m \u001b[34mpurrr  \u001b[39m 1.0.1\n",
            "\u001b[32m✔\u001b[39m \u001b[34mtibble \u001b[39m 3.1.8     \u001b[32m✔\u001b[39m \u001b[34mdplyr  \u001b[39m 1.1.0\n",
            "\u001b[32m✔\u001b[39m \u001b[34mtidyr  \u001b[39m 1.3.0     \u001b[32m✔\u001b[39m \u001b[34mstringr\u001b[39m 1.4.1\n",
            "\u001b[32m✔\u001b[39m \u001b[34mreadr  \u001b[39m 2.1.4     \u001b[32m✔\u001b[39m \u001b[34mforcats\u001b[39m 1.0.0\n",
            "\n",
            "── \u001b[1mConflicts\u001b[22m ────────────────────────────────────────── tidyverse_conflicts() ──\n",
            "\u001b[31m✖\u001b[39m \u001b[34mdplyr\u001b[39m::\u001b[32mfilter()\u001b[39m masks \u001b[34mstats\u001b[39m::filter()\n",
            "\u001b[31m✖\u001b[39m \u001b[34mdplyr\u001b[39m::\u001b[32mlag()\u001b[39m    masks \u001b[34mstats\u001b[39m::lag()\n",
            "\n"
          ]
        },
        {
          "output_type": "display_data",
          "data": {
            "text/html": [
              "0.0843210853636265"
            ],
            "text/markdown": "0.0843210853636265",
            "text/latex": "0.0843210853636265",
            "text/plain": [
              "[1] 0.08432109"
            ]
          },
          "metadata": {}
        }
      ]
    },
    {
      "cell_type": "code",
      "source": [
        "moneda = ifelse(runif(1)<0.5, \"CARA\", \"SELLO\")\n",
        "moneda"
      ],
      "metadata": {
        "colab": {
          "base_uri": "https://localhost:8080/",
          "height": 34
        },
        "id": "XaWloNW7zSOs",
        "outputId": "df4ba9a6-22b7-4c39-df2e-8934f489bbf1"
      },
      "execution_count": null,
      "outputs": [
        {
          "output_type": "display_data",
          "data": {
            "text/html": [
              "'CARA'"
            ],
            "text/markdown": "'CARA'",
            "text/latex": "'CARA'",
            "text/plain": [
              "[1] \"CARA\""
            ]
          },
          "metadata": {}
        }
      ]
    },
    {
      "cell_type": "code",
      "source": [
        "moneda = ifelse(runif(100)<0.5, \"CARA\", \"SELLO\")\n",
        "moneda"
      ],
      "metadata": {
        "colab": {
          "base_uri": "https://localhost:8080/",
          "height": 86
        },
        "id": "68XBLuDBzbmZ",
        "outputId": "6740f61c-a994-4762-d566-cc42e5e07438"
      },
      "execution_count": null,
      "outputs": [
        {
          "output_type": "display_data",
          "data": {
            "text/html": [
              "<style>\n",
              ".list-inline {list-style: none; margin:0; padding: 0}\n",
              ".list-inline>li {display: inline-block}\n",
              ".list-inline>li:not(:last-child)::after {content: \"\\00b7\"; padding: 0 .5ex}\n",
              "</style>\n",
              "<ol class=list-inline><li>'SELLO'</li><li>'SELLO'</li><li>'SELLO'</li><li>'CARA'</li><li>'SELLO'</li><li>'SELLO'</li><li>'SELLO'</li><li>'SELLO'</li><li>'SELLO'</li><li>'CARA'</li><li>'SELLO'</li><li>'SELLO'</li><li>'CARA'</li><li>'CARA'</li><li>'CARA'</li><li>'CARA'</li><li>'CARA'</li><li>'SELLO'</li><li>'SELLO'</li><li>'SELLO'</li><li>'CARA'</li><li>'CARA'</li><li>'CARA'</li><li>'SELLO'</li><li>'CARA'</li><li>'CARA'</li><li>'SELLO'</li><li>'SELLO'</li><li>'SELLO'</li><li>'SELLO'</li><li>'SELLO'</li><li>'CARA'</li><li>'CARA'</li><li>'SELLO'</li><li>'SELLO'</li><li>'SELLO'</li><li>'CARA'</li><li>'CARA'</li><li>'SELLO'</li><li>'CARA'</li><li>'SELLO'</li><li>'CARA'</li><li>'CARA'</li><li>'SELLO'</li><li>'SELLO'</li><li>'CARA'</li><li>'SELLO'</li><li>'CARA'</li><li>'CARA'</li><li>'CARA'</li><li>'CARA'</li><li>'SELLO'</li><li>'SELLO'</li><li>'CARA'</li><li>'SELLO'</li><li>'CARA'</li><li>'SELLO'</li><li>'CARA'</li><li>'SELLO'</li><li>'SELLO'</li><li>'CARA'</li><li>'SELLO'</li><li>'CARA'</li><li>'SELLO'</li><li>'SELLO'</li><li>'CARA'</li><li>'SELLO'</li><li>'SELLO'</li><li>'SELLO'</li><li>'CARA'</li><li>'SELLO'</li><li>'SELLO'</li><li>'SELLO'</li><li>'SELLO'</li><li>'CARA'</li><li>'SELLO'</li><li>'SELLO'</li><li>'CARA'</li><li>'CARA'</li><li>'CARA'</li><li>'SELLO'</li><li>'CARA'</li><li>'CARA'</li><li>'CARA'</li><li>'SELLO'</li><li>'SELLO'</li><li>'SELLO'</li><li>'SELLO'</li><li>'SELLO'</li><li>'SELLO'</li><li>'CARA'</li><li>'SELLO'</li><li>'CARA'</li><li>'CARA'</li><li>'SELLO'</li><li>'CARA'</li><li>'SELLO'</li><li>'SELLO'</li><li>'SELLO'</li><li>'CARA'</li></ol>\n"
            ],
            "text/markdown": "1. 'SELLO'\n2. 'SELLO'\n3. 'SELLO'\n4. 'CARA'\n5. 'SELLO'\n6. 'SELLO'\n7. 'SELLO'\n8. 'SELLO'\n9. 'SELLO'\n10. 'CARA'\n11. 'SELLO'\n12. 'SELLO'\n13. 'CARA'\n14. 'CARA'\n15. 'CARA'\n16. 'CARA'\n17. 'CARA'\n18. 'SELLO'\n19. 'SELLO'\n20. 'SELLO'\n21. 'CARA'\n22. 'CARA'\n23. 'CARA'\n24. 'SELLO'\n25. 'CARA'\n26. 'CARA'\n27. 'SELLO'\n28. 'SELLO'\n29. 'SELLO'\n30. 'SELLO'\n31. 'SELLO'\n32. 'CARA'\n33. 'CARA'\n34. 'SELLO'\n35. 'SELLO'\n36. 'SELLO'\n37. 'CARA'\n38. 'CARA'\n39. 'SELLO'\n40. 'CARA'\n41. 'SELLO'\n42. 'CARA'\n43. 'CARA'\n44. 'SELLO'\n45. 'SELLO'\n46. 'CARA'\n47. 'SELLO'\n48. 'CARA'\n49. 'CARA'\n50. 'CARA'\n51. 'CARA'\n52. 'SELLO'\n53. 'SELLO'\n54. 'CARA'\n55. 'SELLO'\n56. 'CARA'\n57. 'SELLO'\n58. 'CARA'\n59. 'SELLO'\n60. 'SELLO'\n61. 'CARA'\n62. 'SELLO'\n63. 'CARA'\n64. 'SELLO'\n65. 'SELLO'\n66. 'CARA'\n67. 'SELLO'\n68. 'SELLO'\n69. 'SELLO'\n70. 'CARA'\n71. 'SELLO'\n72. 'SELLO'\n73. 'SELLO'\n74. 'SELLO'\n75. 'CARA'\n76. 'SELLO'\n77. 'SELLO'\n78. 'CARA'\n79. 'CARA'\n80. 'CARA'\n81. 'SELLO'\n82. 'CARA'\n83. 'CARA'\n84. 'CARA'\n85. 'SELLO'\n86. 'SELLO'\n87. 'SELLO'\n88. 'SELLO'\n89. 'SELLO'\n90. 'SELLO'\n91. 'CARA'\n92. 'SELLO'\n93. 'CARA'\n94. 'CARA'\n95. 'SELLO'\n96. 'CARA'\n97. 'SELLO'\n98. 'SELLO'\n99. 'SELLO'\n100. 'CARA'\n\n\n",
            "text/latex": "\\begin{enumerate*}\n\\item 'SELLO'\n\\item 'SELLO'\n\\item 'SELLO'\n\\item 'CARA'\n\\item 'SELLO'\n\\item 'SELLO'\n\\item 'SELLO'\n\\item 'SELLO'\n\\item 'SELLO'\n\\item 'CARA'\n\\item 'SELLO'\n\\item 'SELLO'\n\\item 'CARA'\n\\item 'CARA'\n\\item 'CARA'\n\\item 'CARA'\n\\item 'CARA'\n\\item 'SELLO'\n\\item 'SELLO'\n\\item 'SELLO'\n\\item 'CARA'\n\\item 'CARA'\n\\item 'CARA'\n\\item 'SELLO'\n\\item 'CARA'\n\\item 'CARA'\n\\item 'SELLO'\n\\item 'SELLO'\n\\item 'SELLO'\n\\item 'SELLO'\n\\item 'SELLO'\n\\item 'CARA'\n\\item 'CARA'\n\\item 'SELLO'\n\\item 'SELLO'\n\\item 'SELLO'\n\\item 'CARA'\n\\item 'CARA'\n\\item 'SELLO'\n\\item 'CARA'\n\\item 'SELLO'\n\\item 'CARA'\n\\item 'CARA'\n\\item 'SELLO'\n\\item 'SELLO'\n\\item 'CARA'\n\\item 'SELLO'\n\\item 'CARA'\n\\item 'CARA'\n\\item 'CARA'\n\\item 'CARA'\n\\item 'SELLO'\n\\item 'SELLO'\n\\item 'CARA'\n\\item 'SELLO'\n\\item 'CARA'\n\\item 'SELLO'\n\\item 'CARA'\n\\item 'SELLO'\n\\item 'SELLO'\n\\item 'CARA'\n\\item 'SELLO'\n\\item 'CARA'\n\\item 'SELLO'\n\\item 'SELLO'\n\\item 'CARA'\n\\item 'SELLO'\n\\item 'SELLO'\n\\item 'SELLO'\n\\item 'CARA'\n\\item 'SELLO'\n\\item 'SELLO'\n\\item 'SELLO'\n\\item 'SELLO'\n\\item 'CARA'\n\\item 'SELLO'\n\\item 'SELLO'\n\\item 'CARA'\n\\item 'CARA'\n\\item 'CARA'\n\\item 'SELLO'\n\\item 'CARA'\n\\item 'CARA'\n\\item 'CARA'\n\\item 'SELLO'\n\\item 'SELLO'\n\\item 'SELLO'\n\\item 'SELLO'\n\\item 'SELLO'\n\\item 'SELLO'\n\\item 'CARA'\n\\item 'SELLO'\n\\item 'CARA'\n\\item 'CARA'\n\\item 'SELLO'\n\\item 'CARA'\n\\item 'SELLO'\n\\item 'SELLO'\n\\item 'SELLO'\n\\item 'CARA'\n\\end{enumerate*}\n",
            "text/plain": [
              "  [1] \"SELLO\" \"SELLO\" \"SELLO\" \"CARA\"  \"SELLO\" \"SELLO\" \"SELLO\" \"SELLO\" \"SELLO\"\n",
              " [10] \"CARA\"  \"SELLO\" \"SELLO\" \"CARA\"  \"CARA\"  \"CARA\"  \"CARA\"  \"CARA\"  \"SELLO\"\n",
              " [19] \"SELLO\" \"SELLO\" \"CARA\"  \"CARA\"  \"CARA\"  \"SELLO\" \"CARA\"  \"CARA\"  \"SELLO\"\n",
              " [28] \"SELLO\" \"SELLO\" \"SELLO\" \"SELLO\" \"CARA\"  \"CARA\"  \"SELLO\" \"SELLO\" \"SELLO\"\n",
              " [37] \"CARA\"  \"CARA\"  \"SELLO\" \"CARA\"  \"SELLO\" \"CARA\"  \"CARA\"  \"SELLO\" \"SELLO\"\n",
              " [46] \"CARA\"  \"SELLO\" \"CARA\"  \"CARA\"  \"CARA\"  \"CARA\"  \"SELLO\" \"SELLO\" \"CARA\" \n",
              " [55] \"SELLO\" \"CARA\"  \"SELLO\" \"CARA\"  \"SELLO\" \"SELLO\" \"CARA\"  \"SELLO\" \"CARA\" \n",
              " [64] \"SELLO\" \"SELLO\" \"CARA\"  \"SELLO\" \"SELLO\" \"SELLO\" \"CARA\"  \"SELLO\" \"SELLO\"\n",
              " [73] \"SELLO\" \"SELLO\" \"CARA\"  \"SELLO\" \"SELLO\" \"CARA\"  \"CARA\"  \"CARA\"  \"SELLO\"\n",
              " [82] \"CARA\"  \"CARA\"  \"CARA\"  \"SELLO\" \"SELLO\" \"SELLO\" \"SELLO\" \"SELLO\" \"SELLO\"\n",
              " [91] \"CARA\"  \"SELLO\" \"CARA\"  \"CARA\"  \"SELLO\" \"CARA\"  \"SELLO\" \"SELLO\" \"SELLO\"\n",
              "[100] \"CARA\" "
            ]
          },
          "metadata": {}
        }
      ]
    },
    {
      "cell_type": "code",
      "source": [
        "table(moneda)"
      ],
      "metadata": {
        "id": "4zhioUTRzhK-",
        "outputId": "66db9880-9678-451f-b867-f1bd9200f135",
        "colab": {
          "base_uri": "https://localhost:8080/",
          "height": 69
        }
      },
      "execution_count": null,
      "outputs": [
        {
          "output_type": "display_data",
          "data": {
            "text/plain": [
              "moneda\n",
              " CARA SELLO \n",
              "   43    57 "
            ]
          },
          "metadata": {}
        }
      ]
    },
    {
      "cell_type": "code",
      "source": [
        "### número de monedas\n",
        "n=100\n",
        "\n",
        "## Numero de personas\n",
        "\n",
        "m= 30\n",
        "\n",
        "p=c()\n",
        "for(i in 1:m){\n",
        "  moneda = ifelse(runif(n)<0.5, 1, 0)\n",
        "  p[i]=sum(moneda)/n\n",
        "}\n",
        "datos = data.frame(persona =1:m, p_caras=p)\n",
        "datos"
      ],
      "metadata": {
        "colab": {
          "base_uri": "https://localhost:8080/",
          "height": 1000
        },
        "id": "iCRXfefqP5qw",
        "outputId": "b6d152ce-59a7-4a81-fbe4-2002df4983dc"
      },
      "execution_count": null,
      "outputs": [
        {
          "output_type": "display_data",
          "data": {
            "text/html": [
              "<table class=\"dataframe\">\n",
              "<caption>A data.frame: 30 × 2</caption>\n",
              "<thead>\n",
              "\t<tr><th scope=col>persona</th><th scope=col>p_caras</th></tr>\n",
              "\t<tr><th scope=col>&lt;int&gt;</th><th scope=col>&lt;dbl&gt;</th></tr>\n",
              "</thead>\n",
              "<tbody>\n",
              "\t<tr><td> 1</td><td>0.56</td></tr>\n",
              "\t<tr><td> 2</td><td>0.54</td></tr>\n",
              "\t<tr><td> 3</td><td>0.48</td></tr>\n",
              "\t<tr><td> 4</td><td>0.61</td></tr>\n",
              "\t<tr><td> 5</td><td>0.52</td></tr>\n",
              "\t<tr><td> 6</td><td>0.53</td></tr>\n",
              "\t<tr><td> 7</td><td>0.46</td></tr>\n",
              "\t<tr><td> 8</td><td>0.58</td></tr>\n",
              "\t<tr><td> 9</td><td>0.49</td></tr>\n",
              "\t<tr><td>10</td><td>0.54</td></tr>\n",
              "\t<tr><td>11</td><td>0.57</td></tr>\n",
              "\t<tr><td>12</td><td>0.44</td></tr>\n",
              "\t<tr><td>13</td><td>0.50</td></tr>\n",
              "\t<tr><td>14</td><td>0.55</td></tr>\n",
              "\t<tr><td>15</td><td>0.53</td></tr>\n",
              "\t<tr><td>16</td><td>0.36</td></tr>\n",
              "\t<tr><td>17</td><td>0.37</td></tr>\n",
              "\t<tr><td>18</td><td>0.50</td></tr>\n",
              "\t<tr><td>19</td><td>0.52</td></tr>\n",
              "\t<tr><td>20</td><td>0.57</td></tr>\n",
              "\t<tr><td>21</td><td>0.51</td></tr>\n",
              "\t<tr><td>22</td><td>0.52</td></tr>\n",
              "\t<tr><td>23</td><td>0.52</td></tr>\n",
              "\t<tr><td>24</td><td>0.58</td></tr>\n",
              "\t<tr><td>25</td><td>0.51</td></tr>\n",
              "\t<tr><td>26</td><td>0.56</td></tr>\n",
              "\t<tr><td>27</td><td>0.47</td></tr>\n",
              "\t<tr><td>28</td><td>0.52</td></tr>\n",
              "\t<tr><td>29</td><td>0.51</td></tr>\n",
              "\t<tr><td>30</td><td>0.50</td></tr>\n",
              "</tbody>\n",
              "</table>\n"
            ],
            "text/markdown": "\nA data.frame: 30 × 2\n\n| persona &lt;int&gt; | p_caras &lt;dbl&gt; |\n|---|---|\n|  1 | 0.56 |\n|  2 | 0.54 |\n|  3 | 0.48 |\n|  4 | 0.61 |\n|  5 | 0.52 |\n|  6 | 0.53 |\n|  7 | 0.46 |\n|  8 | 0.58 |\n|  9 | 0.49 |\n| 10 | 0.54 |\n| 11 | 0.57 |\n| 12 | 0.44 |\n| 13 | 0.50 |\n| 14 | 0.55 |\n| 15 | 0.53 |\n| 16 | 0.36 |\n| 17 | 0.37 |\n| 18 | 0.50 |\n| 19 | 0.52 |\n| 20 | 0.57 |\n| 21 | 0.51 |\n| 22 | 0.52 |\n| 23 | 0.52 |\n| 24 | 0.58 |\n| 25 | 0.51 |\n| 26 | 0.56 |\n| 27 | 0.47 |\n| 28 | 0.52 |\n| 29 | 0.51 |\n| 30 | 0.50 |\n\n",
            "text/latex": "A data.frame: 30 × 2\n\\begin{tabular}{ll}\n persona & p\\_caras\\\\\n <int> & <dbl>\\\\\n\\hline\n\t  1 & 0.56\\\\\n\t  2 & 0.54\\\\\n\t  3 & 0.48\\\\\n\t  4 & 0.61\\\\\n\t  5 & 0.52\\\\\n\t  6 & 0.53\\\\\n\t  7 & 0.46\\\\\n\t  8 & 0.58\\\\\n\t  9 & 0.49\\\\\n\t 10 & 0.54\\\\\n\t 11 & 0.57\\\\\n\t 12 & 0.44\\\\\n\t 13 & 0.50\\\\\n\t 14 & 0.55\\\\\n\t 15 & 0.53\\\\\n\t 16 & 0.36\\\\\n\t 17 & 0.37\\\\\n\t 18 & 0.50\\\\\n\t 19 & 0.52\\\\\n\t 20 & 0.57\\\\\n\t 21 & 0.51\\\\\n\t 22 & 0.52\\\\\n\t 23 & 0.52\\\\\n\t 24 & 0.58\\\\\n\t 25 & 0.51\\\\\n\t 26 & 0.56\\\\\n\t 27 & 0.47\\\\\n\t 28 & 0.52\\\\\n\t 29 & 0.51\\\\\n\t 30 & 0.50\\\\\n\\end{tabular}\n",
            "text/plain": [
              "   persona p_caras\n",
              "1   1      0.56   \n",
              "2   2      0.54   \n",
              "3   3      0.48   \n",
              "4   4      0.61   \n",
              "5   5      0.52   \n",
              "6   6      0.53   \n",
              "7   7      0.46   \n",
              "8   8      0.58   \n",
              "9   9      0.49   \n",
              "10 10      0.54   \n",
              "11 11      0.57   \n",
              "12 12      0.44   \n",
              "13 13      0.50   \n",
              "14 14      0.55   \n",
              "15 15      0.53   \n",
              "16 16      0.36   \n",
              "17 17      0.37   \n",
              "18 18      0.50   \n",
              "19 19      0.52   \n",
              "20 20      0.57   \n",
              "21 21      0.51   \n",
              "22 22      0.52   \n",
              "23 23      0.52   \n",
              "24 24      0.58   \n",
              "25 25      0.51   \n",
              "26 26      0.56   \n",
              "27 27      0.47   \n",
              "28 28      0.52   \n",
              "29 29      0.51   \n",
              "30 30      0.50   "
            ]
          },
          "metadata": {}
        }
      ]
    },
    {
      "cell_type": "code",
      "source": [
        "ggplot(datos, aes(x=p_caras))+geom_density()"
      ],
      "metadata": {
        "colab": {
          "base_uri": "https://localhost:8080/",
          "height": 437
        },
        "id": "dHRJpJduQtbW",
        "outputId": "eb26760f-9fb6-4c84-b241-703ce2d01a99"
      },
      "execution_count": null,
      "outputs": [
        {
          "output_type": "display_data",
          "data": {
            "text/plain": [
              "plot without title"
            ],
            "image/png": "[encoded data removed]"
          },
          "metadata": {
            "image/png": {
              "width": 420,
              "height": 420
            }
          }
        }
      ]
    },
    {
      "cell_type": "code",
      "source": [
        "### número de monedas\n",
        "n=100\n",
        "\n",
        "## Numero de personas\n",
        "\n",
        "m= 30000\n",
        "\n",
        "p=c()\n",
        "for(i in 1:m){\n",
        "  moneda = ifelse(runif(n)<0.5, 1, 0)\n",
        "  p[i]=sum(moneda)/n\n",
        "}\n",
        "datos = data.frame(persona =1:m, p_caras=p)\n",
        "ggplot(datos, aes(x=p_caras))+geom_density()"
      ],
      "metadata": {
        "colab": {
          "base_uri": "https://localhost:8080/",
          "height": 437
        },
        "id": "40VxBpAxRBQZ",
        "outputId": "457d87ed-5c21-4570-96e7-911765e94400"
      },
      "execution_count": null,
      "outputs": [
        {
          "output_type": "display_data",
          "data": {
            "text/plain": [
              "plot without title"
            ],
            "image/png": "[encoded data removed]"
          },
          "metadata": {
            "image/png": {
              "width": 420,
              "height": 420
            }
          }
        }
      ]
    },
    {
      "cell_type": "markdown",
      "source": [
        "¿Se parece a algo?\n"
      ],
      "metadata": {
        "id": "_A4ccwPARSqP"
      }
    },
    {
      "cell_type": "markdown",
      "source": [
        "## Probabilidad\n",
        "\n",
        "1. La probabilidad es una rama de las matemáticas que se utiliza para medir la posibilidad o la chance de que ocurra un evento específico. Se refiere a la medida de la posibilidad de que un resultado particular ocurra en una situación donde hay varios resultados posibles.  La probabilidad se puede expresar como un número entre 0 y 1, donde 0 significa que un evento es imposible de ocurrir y 1 significa que el evento es seguro de ocurrir. Una probabilidad de 0,5 indica que hay una chance del 50% de que un evento ocurra.\n",
        "2. La probabilidad se utiliza en una variedad de áreas, como las finanzas, la estadística, la física y la ingeniería, entre otras. También se utiliza en situaciones cotidianas, como en juegos de azar, donde se usa para calcular la chance de ganar un juego en particular.  Es importante tener en cuenta que la probabilidad no garantiza la ocurrencia de un evento en particular, sino que simplemente proporciona una estimación de la posibilidad de que ocurra.\n"
      ],
      "metadata": {
        "id": "n6uWRuMcw4hM"
      }
    },
    {
      "cell_type": "markdown",
      "source": [
        "### Distribucion binomial\n",
        "\n",
        "La distribución binomial de probabilidad es una distribución de probabilidad discreta que describe el número de veces que un evento ocurre en una serie de ensayos independientes y idénticos, donde cada ensayo tiene solo dos posibles resultados: éxito o fracaso.\n",
        "\n",
        "En una distribución binomial, el parámetro \"n\" representa el número total de ensayos y el parámetro \"p\" representa la probabilidad de éxito en cada ensayo. La función de masa de probabilidad de una distribución binomial da la probabilidad de obtener exactamente \"x\" éxitos en \"n\" ensayos. La fórmula de la distribución binomial es:\n",
        "\n",
        "$$P(X = x) = (nCx) \\times p^x \\times (1-p)^(n-x)$$\n",
        "\n",
        "Donde:\n",
        "\n",
        "1. P(X = x) es la probabilidad de que haya exactamente \"x\" éxitos.\n",
        "2. n es el número total de ensayos.\n",
        "3. p es la probabilidad de éxito en cada ensayo.\n",
        "4. (nCx) es el coeficiente binomial que representa el número de formas en que se pueden seleccionar \"x\" éxitos de \"n\" ensayos.\n",
        "5. p^x es la probabilidad de tener \"x\" éxitos.\n",
        "6. (1-p)^(n-x) es la probabilidad de tener \"n-x\" fracasos.\n",
        "La distribución binomial se utiliza comúnmente en áreas como la estadística, la investigación de operaciones y la psicología para modelar eventos binarios como el éxito o el fracaso, la vida o la muerte, y así sucesivamente."
      ],
      "metadata": {
        "id": "Vhep8gTfxjLR"
      }
    },
    {
      "cell_type": "markdown",
      "source": [
        "### Distribuación binomial negativa\n",
        "La distribución binomial negativa es una distribución de probabilidad discreta que describe el número de ensayos independientes y idénticos que se necesitan para obtener un número específico de éxitos en una serie de ensayos, donde cada ensayo tiene solo dos posibles resultados: éxito o fracaso.\n",
        "\n",
        "En una distribución binomial negativa, el parámetro \"r\" representa el número de éxitos deseados y el parámetro \"p\" representa la probabilidad de éxito en cada ensayo. La función de masa de probabilidad de una distribución binomial negativa da la probabilidad de que se necesiten exactamente \"n\" ensayos para obtener \"r\" éxitos. La fórmula de la distribución binomial negativa es:\n",
        "\n",
        "$$P(X = n) = (n-1)C(r-1) \\times p^r \\times (1-p)^(n-r)$$\n",
        "\n",
        "Donde:\n",
        "\n",
        "1. P(X = n) es la probabilidad de que se necesiten exactamente \"n\" ensayos para obtener \"r\" éxitos.\n",
        "2. (n-1)C(r-1) es el coeficiente binomial que representa el número de formas en que se pueden obtener \"r-1\" éxitos en \"n-1\" ensayos.\n",
        "3. p^r es la probabilidad de obtener \"r\" éxitos.\n",
        "4. (1-p)^(n-r) es la probabilidad de obtener \"n-r\" fracasos.\n",
        "La distribución binomial negativa se utiliza comúnmente en áreas como la estadística, la investigación de operaciones y la econometría para modelar eventos que tienen un número fijo de éxitos deseados, pero donde el número de ensayos necesarios para alcanzar ese número de éxitos puede variar."
      ],
      "metadata": {
        "id": "0qcdd6YrygFo"
      }
    },
    {
      "cell_type": "markdown",
      "source": [
        "### Distribución de Poisson\n",
        "\n",
        "La distribución de Poisson es una distribución de probabilidad discreta que se utiliza para modelar el número de ocurrencias de un evento en un intervalo de tiempo o en un espacio determinado, cuando la tasa media de ocurrencia es conocida y es constante en todo el intervalo o espacio.\n",
        "\n",
        "Por ejemplo, la distribución de Poisson se puede utilizar para modelar el número de llamadas que llegan a un centro de atención telefónica en un intervalo de tiempo determinado, o el número de accidentes de tráfico que ocurren en una carretera en un día determinado.\n",
        "\n",
        "La distribución de Poisson se caracteriza por un solo parámetro, \"λ\", que representa la tasa media de ocurrencia del evento en el intervalo de tiempo o espacio. La función de masa de probabilidad de la distribución de Poisson da la probabilidad de que ocurra un número específico de eventos durante un intervalo de tiempo o en un espacio determinado, y se puede expresar mediante la siguiente fórmula:\n",
        "\n",
        "$$P(X = k) = (e^{-λ} * λ^k) / k!$$\n",
        "\n",
        "Donde:\n",
        "\n",
        "1. P(X = k) es la probabilidad de que ocurran exactamente \"k\" eventos.\n",
        "2. e es la constante matemática e (aproximadamente igual a 2.71828).\n",
        "3. λ es la tasa media de ocurrencia del evento en el intervalo de tiempo o espacio.\n",
        "4. k es el número de eventos que se espera que ocurran.\n",
        "5. k! es el factorial de \"k\".\n",
        "La distribución de Poisson se utiliza comúnmente en áreas como la estadística, la ingeniería, la física, la biología, la economía y la demografía para modelar eventos que ocurren de manera aleatoria y cuya tasa media de ocurrencia es conocida."
      ],
      "metadata": {
        "id": "D0bvzuFxy4mr"
      }
    },
    {
      "cell_type": "markdown",
      "source": [
        "### Otras distribuciones discretas\n",
        "\n",
        "1. Distribución geométrica: es una distribución de probabilidad discreta que describe el número de ensayos independientes y idénticos que se necesitan para obtener el primer éxito en una serie de ensayos, donde cada ensayo tiene solo dos posibles resultados: éxito o fracaso.\n",
        "\n",
        "2. Distribución hipergeométrica: es una distribución de probabilidad discreta que se utiliza para modelar eventos en los que se extrae una muestra aleatoria de una población finita y se cuenta el número de elementos de una cierta clase en la muestra.\n",
        "\n",
        "3. Distribución de Bernoulli: es una distribución de probabilidad discreta que describe la probabilidad de un evento con solo dos posibles resultados: éxito o fracaso. Es un caso especial de la distribución binomial con un solo ensayo.\n",
        "\n",
        "4. Distribución de multinomial: es una distribución de probabilidad discreta que se utiliza para modelar eventos en los que se realiza un experimento con varias categorías posibles y se cuenta el número de veces que se obtiene cada una de las categorías.\n",
        "\n",
        "5. Distribución de Poisson compuesta: es una distribución de probabilidad discreta que se utiliza para modelar eventos en los que la tasa de ocurrencia de un evento varía en el tiempo o en el espacio. Es una combinación de la distribución de Poisson y una distribución de probabilidad continua que describe la tasa de ocurrencia del evento."
      ],
      "metadata": {
        "id": "luy_zZp_zMMe"
      }
    },
    {
      "cell_type": "markdown",
      "source": [
        "## Distribuciones de probabilidad continuas"
      ],
      "metadata": {
        "id": "JmQjjQ6izmtu"
      }
    },
    {
      "cell_type": "markdown",
      "source": [
        "### Distribución exponencial\n",
        "\n",
        "La distribución exponencial es una distribución de probabilidad continua que se utiliza para modelar el tiempo que transcurre entre dos eventos consecutivos en un proceso estocástico en el que los eventos ocurren de manera aleatoria e independiente a una tasa media conocida.\n",
        "\n",
        "Por ejemplo, la distribución exponencial se puede utilizar para modelar el tiempo que transcurre entre dos llamadas consecutivas a un centro de atención telefónica, o el tiempo que transcurre entre dos fallos consecutivos de una máquina en una línea de producción.\n",
        "\n",
        "La distribución exponencial se caracteriza por un solo parámetro, \"λ\", que representa la tasa media de ocurrencia de los eventos. La función de densidad de probabilidad de la distribución exponencial se puede expresar mediante la siguiente fórmula:\n",
        "\n",
        "$$f(x) = λ \\times e^{-λx}$$\n",
        "\n",
        "Donde:\n",
        "\n",
        "1. f(x) es la densidad de probabilidad de que el tiempo entre dos eventos consecutivos sea \"x\".\n",
        "e es la constante matemática e (aproximadamente igual a 2.71828).\n",
        "2. λ es la tasa media de ocurrencia de los eventos.\n",
        "3. x es el tiempo que transcurre entre dos eventos consecutivos.\n",
        "La distribución exponencial tiene muchas propiedades útiles, como la falta de memoria, lo que significa que la probabilidad de que el siguiente evento ocurra en un tiempo determinado no depende del tiempo que ya ha transcurrido desde el último evento. La distribución exponencial se utiliza comúnmente en áreas como la estadística, la ingeniería, la física, la biología, la economía y la demografía para modelar eventos que ocurren de manera aleatoria y en los que el tiempo entre eventos consecutivos es importante."
      ],
      "metadata": {
        "id": "662h2Siuz24U"
      }
    },
    {
      "cell_type": "markdown",
      "source": [
        "### Distribución normal\n",
        "\n",
        "La distribución normal, también conocida como distribución gaussiana, es una distribución de probabilidad continua que se utiliza ampliamente en estadística y en muchos campos científicos para modelar la variabilidad de una variable continua.\n",
        "\n",
        "La distribución normal se caracteriza por dos parámetros: la media (μ) y la desviación estándar (σ). Su función de densidad de probabilidad es una curva en forma de campana simétrica alrededor de la media, donde la altura de la curva en cada punto representa la probabilidad de que la variable tome ese valor.\n",
        "\n",
        "La distribución normal tiene varias propiedades importantes, como la regla empírica, que establece que aproximadamente el 68% de los valores se encuentran dentro de una desviación estándar de la media, el 95% se encuentran dentro de dos desviaciones estándar de la media y el 99.7% se encuentran dentro de tres desviaciones estándar de la media.\n",
        "\n",
        "La distribución normal es ampliamente utilizada en la estadística inferencial para modelar la variabilidad en datos de muestra, para realizar pruebas de hipótesis, para construir intervalos de confianza, para ajustar modelos de regresión, entre otros. También se utiliza en muchos campos científicos para modelar fenómenos naturales y sociales, como la altura de los individuos, la temperatura, los tiempos de espera, las notas de los exámenes, entre otros.\n"
      ],
      "metadata": {
        "id": "JqJBgO1_0TPL"
      }
    },
    {
      "cell_type": "markdown",
      "source": [
        "## Teorema central del límite\n",
        "El teorema central del límite es un teorema importante en estadística que establece que, bajo ciertas condiciones, la distribución de la media muestral de una población se aproxima a una distribución normal a medida que el tamaño de la muestra aumenta.\n",
        "\n",
        "Específicamente, el teorema establece que si se toman muchas muestras aleatorias de tamaño n de una población con una distribución cualquiera, la distribución de las medias de estas muestras se aproxima a una distribución normal con una media igual a la media de la población y una desviación estándar igual a la desviación estándar de la población dividida por la raíz cuadrada del tamaño de la muestra.\n",
        "\n",
        "El teorema central del límite es importante en estadística por varias razones:\n",
        "\n",
        "Permite la inferencia estadística: Con el teorema central del límite, se puede utilizar la distribución normal para hacer inferencias sobre la población, incluso si no se conoce la distribución de la población. Esto se debe a que la distribución normal es una de las pocas distribuciones de probabilidad que es fácil de calcular y que se conoce bien.\n",
        "\n",
        "Proporciona una base para la construcción de intervalos de confianza: El teorema central del límite se utiliza para construir intervalos de confianza para estimar parámetros de población como la media o la proporción.\n",
        "\n",
        "Facilita la realización de pruebas de hipótesis: El teorema central del límite se utiliza para calcular los valores p en pruebas de hipótesis y determinar si una diferencia observada entre dos grupos es estadísticamente significativa.\n",
        "\n",
        "En resumen, el teorema central del límite es fundamental para la estadística inferencial, ya que proporciona una herramienta para trabajar con muestras aleatorias y hacer inferencias precisas sobre la población a partir de la información obtenida de las muestras."
      ],
      "metadata": {
        "id": "ch2npzXd01tn"
      }
    },
    {
      "cell_type": "code",
      "source": [
        "5+4"
      ],
      "metadata": {
        "colab": {
          "base_uri": "https://localhost:8080/",
          "height": 34
        },
        "id": "vsVxXI_g0_Jl",
        "outputId": "b971db3c-ce9b-4f20-e29d-2f6dd661c049"
      },
      "execution_count": null,
      "outputs": [
        {
          "output_type": "display_data",
          "data": {
            "text/html": [
              "9"
            ],
            "text/markdown": "9",
            "text/latex": "9",
            "text/plain": [
              "[1] 9"
            ]
          },
          "metadata": {}
        }
      ]
    }
  ]
}