{
  "nbformat": 4,
  "nbformat_minor": 0,
  "metadata": {
    "colab": {
      "provenance": []
    },
    "kernelspec": {
      "name": "ir",
      "display_name": "R"
    },
    "language_info": {
      "name": "R"
    }
  },
  "cells": [
    {
      "cell_type": "markdown",
      "source": [
        "# Fundamentos de Metodología Estadística\n",
        "\n",
        "La asignatura Estadística Aplicada a la Investigación, ofertada por el Departamento de Enfermería de la Facultad, busca dar los fundamentos Conceptuales y Aplicados de las técnicas estadísticas básicas, descriptivas e inferenciales, paramétricas y no-paramétricas en los proyectos investigativos en ciencias de la salud, para el fortalecimiento de las competencias en  investigación cuantitativa en salud.\n",
        "## OBJETIVO\n",
        "Capacitar a los asistentes para realizar actividades de crítica y operacionalización de los elementos teóricos en estadística descriptiva e inferencial en actividades investigativas en ciencias de la salud.\n",
        "## METODOLOGÍA\n",
        "La asignatura combina sesiones magistrales con talleres y ejercicios prácticos. Se desarrollará en 13 sesiones según plan calendario. Para garantizar el correcto desarrollo de los encuentros, los estudiantes inscritos deberán traer su computador personal a cada uno de los encuentros programados.\n",
        "## EVALUACIÓN\n",
        "Las evaluaciones comprenden actividades presenciales e independientes a través de talleres y examen final.\n",
        "* Taller 1 30% (Abril 18. Taller de Estadística descriptiva)\n",
        "* Taller 2 30% (Mayo 23. Taller de análisis bivariante ).\n",
        "\n",
        "* Trabajo final 40%: En HTML – PDF-Base de datos simulada -"
      ],
      "metadata": {
        "id": "xGZ8IgLZB0U2"
      }
    },
    {
      "cell_type": "markdown",
      "source": [
        "## Clase 1\n",
        "\n",
        "Fundamentos de Metodología Estadística. \n",
        "\n",
        "### Parte 1\n",
        "Instalación de R y Rstudio\n",
        "\n",
        "1. [R](https://www.r-project.org/) es un entorno de software libre para computación estadística y gráficos. Compila y se ejecuta en una amplia variedad de plataformas UNIX, Windows y MacOS. Para [descargar R](https://cloud.r-project.org/) siga este enlace y seleccione su sistema operativo.\n",
        "\n",
        "2. [Rstudio](https://posit.co/download/rstudio-desktop/) es un entorno de desarrollo integrado (IDE) para R y Python. Incluye una consola, un editor de resaltado de sintaxis que admite la ejecución directa de código y herramientas para el trazado, el historial, la depuración y la gestión del espacio de trabajo. RStudio está disponible en ediciones comerciales y de código abierto y se ejecuta en el escritorio (Windows, Mac y Linux).\n",
        "\n",
        "3. Tambien se puede ejecutar R desde esta plataforma de Colab, pero no se recomienda por que su curva de aprendizaje es más compleja.\n",
        "\n",
        "4. Si quiere saber más de [Jupyter Notebook](https://www.ionos.es/digitalguide/paginas-web/desarrollo-web/jupyter-notebook/), lea el atículo del enlace.\n",
        "\n",
        "\n",
        "5. Recuerde siempre primero descargar e instalar R y luego Rstudio. El orden de los factores si afecta el resultado."
      ],
      "metadata": {
        "id": "raj6eocxCO_Q"
      }
    },
    {
      "cell_type": "markdown",
      "source": [
        "## ¿Cómo ejecutar los codigos de este cuaderno?\n",
        "\n",
        "1. Los códigos de este cuaderno se pueden ejecutar en esta plataforma. *No recomendado*\n",
        "2. Se deben copiar y descargar en Rstudio, pero siempre recordando comentarlos para poder repetir los procesos y adaptarlos. "
      ],
      "metadata": {
        "id": "JE2b6CSfDorF"
      }
    },
    {
      "cell_type": "markdown",
      "source": [
        "# Introducción a R\n",
        "\n",
        "1. R es una calculadora (**Con esteroides**)\n",
        "2. R es un excel (**Con esteroides**)\n",
        "3. Y lo que no hace, se le programa. Estos archivos se conocen como [librerias o paquetes](https://cran.r-project.org/). Para su funcionamiento mirar este [video](https://www.youtube.com/watch?v=Yg3PEllMlyw&ab_channel=SantiagoOrtiz). "
      ],
      "metadata": {
        "id": "ZEF9qm0pEHOI"
      }
    },
    {
      "cell_type": "code",
      "execution_count": null,
      "metadata": {
        "colab": {
          "base_uri": "https://localhost:8080/",
          "height": 34
        },
        "id": "q1TZ-fCjBwbZ",
        "outputId": "7d41d857-a6e1-4dad-99eb-c2b2698ac765"
      },
      "outputs": [
        {
          "output_type": "display_data",
          "data": {
            "text/html": [
              "7"
            ],
            "text/markdown": "7",
            "text/latex": "7",
            "text/plain": [
              "[1] 7"
            ]
          },
          "metadata": {}
        }
      ],
      "source": [
        "## Suma en R\n",
        "4+3"
      ]
    },
    {
      "cell_type": "code",
      "source": [
        "## Multiplicación en R\n",
        "6*8"
      ],
      "metadata": {
        "colab": {
          "base_uri": "https://localhost:8080/",
          "height": 34
        },
        "id": "5WJsPMNUFfW0",
        "outputId": "8d9fa8f9-00c8-4970-effc-b7890552510b"
      },
      "execution_count": null,
      "outputs": [
        {
          "output_type": "display_data",
          "data": {
            "text/html": [
              "48"
            ],
            "text/markdown": "48",
            "text/latex": "48",
            "text/plain": [
              "[1] 48"
            ]
          },
          "metadata": {}
        }
      ]
    },
    {
      "cell_type": "code",
      "source": [
        "## Operaciones lógicas\n",
        "5>6"
      ],
      "metadata": {
        "colab": {
          "base_uri": "https://localhost:8080/",
          "height": 34
        },
        "id": "f4mI1NDCFuV3",
        "outputId": "0d31d3de-f029-44a4-fe0d-1c09705aa639"
      },
      "execution_count": null,
      "outputs": [
        {
          "output_type": "display_data",
          "data": {
            "text/html": [
              "FALSE"
            ],
            "text/markdown": "FALSE",
            "text/latex": "FALSE",
            "text/plain": [
              "[1] FALSE"
            ]
          },
          "metadata": {}
        }
      ]
    },
    {
      "cell_type": "markdown",
      "source": [
        "Probar los siguientes codigos en Rstudio"
      ],
      "metadata": {
        "id": "5-x-DcRgJZwR"
      }
    },
    {
      "cell_type": "code",
      "source": [
        "#### ALgebra lógica\n",
        "\n",
        "5>3\n",
        "\n",
        "4<=6\n",
        "\n",
        "6<6\n",
        "\n",
        "6<=6\n",
        "\n",
        "4>45\n",
        "\n",
        "4!=5\n",
        "\n",
        "3=6\n",
        "\n",
        "\n",
        "\n",
        "3=6  ## Que sucede? (Error en la asignacion)\n",
        "\n",
        "3==6  ## Comparación correcta\n",
        "\n",
        "## Asignación de objetos\n",
        "## Flecha\n",
        "x <- c(1,4,5,6,7,86867,7,89,4,5,6,7)\n",
        "\n",
        "## igual\n",
        "Alirio = c(1,4,5,6,7,86867,7,89,4,5,6,7)\n",
        "\n",
        "x^3  ## no se asigna, sólo lo muestra\n",
        "\n",
        "## Se crea un objeto\n",
        "\n",
        "y = Alirio^3 \n",
        "\n",
        "nombre= \"Al\"  ### Entre comillas para nombres\n",
        "nombres= c(\"Al\", \"Ali\", \"Car\", \"Jhon\", \"Kar\") ## Separadas por coma\n",
        "\n",
        "nombres^2  ## Problema con non-numeric\n",
        "\n",
        "z = 1:100\n",
        "\n",
        "\n",
        "## Nombre <- Operacion\n",
        "y <- z>7 ## Un vecto con TRUE si z es mayor a 7, y false \n",
        "\n",
        "y\n",
        "str(y) ### Estructura de y\n",
        "\n",
        "a =y^2  ## Los FALSE=0, los TRUE=1\n",
        "\n",
        "A=y+2 ## le suma 2 a todo\n",
        "\n",
        "## El objeto a es diferente al A\n"
      ],
      "metadata": {
        "id": "a3BTaYZyJdoB"
      },
      "execution_count": null,
      "outputs": []
    },
    {
      "cell_type": "markdown",
      "source": [
        "# Clasificación de variables\n",
        "1. ¿Qué es una variable?\n",
        "2. ¿Qué es la población?\n",
        "3. ¿Qué es una muestra?\n",
        "4. ¿Qué es un individuo?\n",
        "\n"
      ],
      "metadata": {
        "id": "CVU_s-rFUiqY"
      }
    },
    {
      "cell_type": "markdown",
      "source": [
        "## Vamos a aplicar lo aprendido\n",
        "1. Para este trabajo vamos a usar los datos de [acá](https://www.kaggle.com/datasets/alexteboul/diabetes-health-indicators-dataset?resource=download)\n",
        "\n",
        "2. El Sistema de Vigilancia de Factores de Riesgo del Comportamiento (BRFSS, por sus siglas en inglés) es una encuesta telefónica relacionada con la salud que los CDC recopilan anualmente. Cada año, la encuesta recopila respuestas de más de 400,000 estadounidenses sobre comportamientos de riesgo relacionados con la salud, condiciones de salud crónicas y el uso de servicios preventivos. Se lleva a cabo todos los años desde 1984. Para este proyecto, se utilizó un csv del conjunto de datos disponible en Kaggle para el año 2015.\n",
        "3. El [diabetes_BRFSS2015.csv](https://raw.githubusercontent.com/Cruzalirio/Unal-Enfermeria-/main/Datos/diabetes_BRFSS2015.csv) es un conjunto de datos limpio de 253,680 respuestas a la encuesta BRFSS2015 de los CDC. La variable objetivo Diabetes_012 tiene 3 clases. 0 es sin diabetes o solo durante el embarazo, 1 es para prediabetes y 2 es para diabetes. Hay un desequilibrio de clases en este conjunto de datos. Este conjunto de datos tiene 21 variables de características\n",
        "\n",
        "4. Descripción de las variables:\n",
        "\n",
        "\n",
        "*   Diabetes_012: 0 = no diabetes 1 = prediabetes 2 = diabetes\n",
        "*   HighBP: 0 = no high BP 1 = high BP\n",
        "*   HighChol: 0 = no high cholesterol 1 = high cholesterol\n",
        "*   CholCheck: 0 = no cholesterol check in 5 years 1 = yes cholesterol check in 5 years.\n",
        "*   BMI: Body Mass Index\n",
        "*   Smoker: Have you smoked at least 100 cigarettes in your entire life?(Note: 5 packs = 100 cigarettes) 0 = no 1 = yes\n",
        "*   Stroke:  (Ever told) you had a stroke. 0 = no 1 = yes\n",
        "*   HeartDiseaseorAttack: coronary heart disease (CHD) or myocardial infarction (MI) 0 = no 1 = yes\n",
        "*   PhysActivity: physical activity in past 30 days - not including job 0 = no 1 = yes\n",
        "*   Fruits: Consume Fruit 1 or more times per day 0 = no 1 = yes\n",
        "*   Veggies: Consume Vegetables 1 or more times per day 0 = no 1 = yes\n",
        "*   HvyAlcoholConsump: Heavy drinkers (adult men having more than 14 drinks per week and adult women having more than 7 drinks per week) 0 = no 1 = yes\n",
        "*   AnyHealthcare: Have any kind of health care coverage, including health insurance, prepaid plans such as HMO, etc. 0 = no 1 = yes\n",
        "*  NoDocbcCost: Was there a time in the past 12 months when you needed to see a doctor but could not because of cost? 0 = no 1 = yes\n",
        "*   GenHlth: Would you say that in general your health is: scale 1-5 1 = excellent 2 = very good 3 = good 4 = fair 5 = poor\n",
        "*  MentHlth: Now thinking about your mental health, which includes stress, depression, and problems with emotions, for how many days during the past 30 days was your mental health not good? scale 1-30 days\n",
        "*   PhysHlth: Now thinking about your physical health, which includes physical illness and injury, for how many days during the past 30 days was your physical health not good? scale 1-30 days\n",
        "*    DiffWalk: Do you have serious difficulty walking or climbing stairs? 0 = no 1 = yes\n",
        "*    Sex:  0 = female 1 = male\n",
        "*    Age: 13-level age category (_AGEG5YR see codebook) 1 = 18-24 9 = 60-64 13 = 80 or older\n",
        "*    Education:  Education level (EDUCA see codebook) scale 1-6 1 = Never attended school or only kindergarten 2 = Grades 1 through 8 (Elementary) 3 = Grades 9 through 11 (Some high school) 4 = Grade 12 or GED (High school graduate) 5 = College 1 year to 3 years (Some college or technical school) 6 = College 4 years or more (College graduate)\n",
        "*   Income:  Income scale (INCOME2 see codebook) scale 1-8 1 = less than \\$10,000 5 = less than \\$35,000 8 = \\$75,000 or more\n"
      ],
      "metadata": {
        "id": "YGoPzL9AJ0j5"
      }
    },
    {
      "cell_type": "markdown",
      "source": [
        "# Actividades adicionales\n",
        "\n",
        "1. Ver este [video](https://www.youtube.com/watch?v=aluTORun4r4&ab_channel=UniversidaddeNavarra). \n",
        "2. Para la siguiente clase, cada estudiante debe leer el capítulo 8 del libro de [Sampieri](https://drive.google.com/file/d/1oSQY0T5Re4mflFQIHHgy1VAROAWl8sbU/view?usp=sharing). La siguiente clase lo discutiremos al iniciar. "
      ],
      "metadata": {
        "id": "F0LFtdTyHDnO"
      }
    }
  ]
}