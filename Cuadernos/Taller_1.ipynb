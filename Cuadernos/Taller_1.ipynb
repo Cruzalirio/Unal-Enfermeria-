{
  "nbformat": 4,
  "nbformat_minor": 0,
  "metadata": {
    "colab": {
      "provenance": []
    },
    "kernelspec": {
      "name": "ir",
      "display_name": "R"
    },
    "language_info": {
      "name": "R"
    }
  },
  "cells": [
    {
      "cell_type": "markdown",
      "source": [
        "# Fundamentos de Metodología Estadística\n",
        "\n",
        "Taller 1 de estadística descriptiva\n",
        "\n",
        "1. Fecha de envío = Viernes 24 de Febrero\n",
        "2. Fecha de entrega = Viernes 3 de marzo hasta las 23:59:59 GMT -5\n",
        "\n",
        "\n"
      ],
      "metadata": {
        "id": "xGZ8IgLZB0U2"
      }
    },
    {
      "cell_type": "markdown",
      "source": [
        "## Bases de datos\n",
        "1. Este conjunto de datos proviene de una encuesta de 2014 que mide las actitudes hacia la salud mental y la frecuencia de los trastornos de salud mental en el lugar de trabajo tecnológico. Mas información [click acá](https://www.kaggle.com/datasets/osmi/mental-health-in-tech-survey)\n",
        "\n",
        "Contenido\n",
        "Este conjunto de datos contiene los siguientes datos:\n",
        "1. **Timestamp**: Fecha de la entrevista\n",
        "2. **Age**: Edad\n",
        "3. **Gender**\n",
        "4. **Country**\n",
        "5. **state**: If you live in the United States, which state or territory do you live in?\n",
        "6. **self_employed**: Are you self-employed?\n",
        "7. **family_history**: Do you have a family history of mental illness?\n",
        "8. **treatment**: Have you sought treatment for a mental health condition?\n",
        "9. **work_interfere**: If you have a mental health condition, do you feel that it interferes with your work?\n",
        "10. **no_employees**: How many employees does your company or organization have?\n",
        "11. **remote_work**: Do you work remotely (outside of an office) at least 50% of the time?\n",
        "12. **tech_company**: Is your employer primarily a tech company/organization?\n",
        "13. **benefits**: Does your employer provide mental health benefits?\n",
        "14. **care_options**: Do you know the options for mental health care your employer provides?\n",
        "15. **wellness_program**: Has your employer ever discussed mental health as part of an employee wellness program?\n",
        "16. **seek_help**: Does your employer provide resources to learn more about mental health issues and how to seek help?\n",
        "17. **anonymity**: Is your anonymity protected if you choose to take advantage of mental health or substance abuse treatment resources?\n",
        "18. **leave**: How easy is it for you to take medical leave for a mental health condition?\n",
        "19. **mental_health_consequence**: Do you think that discussing a mental health issue with your employer would have negative consequences?\n",
        "20. **phys_health_consequence**: Do you think that discussing a physical health issue with your employer would have negative consequences?\n",
        "21. **coworkers**: Would you be willing to discuss a mental health issue with your coworkers?\n",
        "22. **supervisor**: Would you be willing to discuss a mental health issue with your direct supervisor(s)?\n",
        "23. **mental_health_interview**: Would you bring up a mental health issue with a potential employer in an interview?\n",
        "24. **phys_health_interview**: Would you bring up a physical health issue with a potential employer in an interview?\n",
        "25. **mental_vs_physical**: Do you feel that your employer takes mental health as seriously as physical health?\n",
        "26. **obs_consequence**: Have you heard of or observed negative consequences for coworkers with mental health conditions in your workplace?\n",
        "27. **comments**: Any additional notes or comments\n",
        "\n",
        "Inspiration\n",
        "Some questions worth exploring:\n",
        "\n",
        "How does the frequency of mental health illness and attitudes towards mental health vary by geographic location?\n",
        "What are the strongest predictors of mental health illness or certain attitudes towards mental health in the workplace?\n",
        "Acknowledgements\n",
        "The original dataset is from Open Sourcing Mental Illness and can be downloaded here.\n"
      ],
      "metadata": {
        "id": "YGoPzL9AJ0j5"
      }
    },
    {
      "cell_type": "code",
      "source": [
        "library(tidyverse)"
      ],
      "metadata": {
        "id": "6q7tEM4e2uNk"
      },
      "execution_count": null,
      "outputs": []
    },
    {
      "cell_type": "markdown",
      "source": [
        "## Los datos\n",
        "\n",
        "1. Los datos para descarga estan [acá](https://github.com/Cruzalirio/Unal-Enfermeria-/blob/main/Datos/survey.csv)\n",
        "\n",
        "2. Tambien se pueden importar directo desde R con este código"
      ],
      "metadata": {
        "id": "M1lU0BXq57pd"
      }
    },
    {
      "cell_type": "code",
      "source": [
        "url =\"https://raw.githubusercontent.com/Cruzalirio/Unal-Enfermeria-/main/Datos/survey.csv\"\n",
        "datos = read_csv(url)\n",
        "head(datos)"
      ],
      "metadata": {
        "id": "pXzc_2Eo6vlJ"
      },
      "execution_count": null,
      "outputs": []
    },
    {
      "cell_type": "markdown",
      "source": [
        "## Taller (Sólo con gráficas, texto y tablas)\n",
        "*Las siguientes preguntas deben entregarse en un archivo de Word o PDF, junto a un archivo de R con los códigos utilizados. Muchas cosas podría hacerlas tambien en Excel, es su decisión* \n",
        "\n",
        "1. Clasifique la totalidad de las variables. Sí considera necesario, justifique su decisión. (5 puntos)\n",
        "\n",
        "2. Realice un tabla de frecuencias de la variable Gender. \n",
        "* ¿Qué problema encuentra en esta variable? \n",
        "* ¿Es posible recategorizar? \n",
        "* Presente un gráfico de barras de esta variable (10 puntos)\n",
        "\n",
        "3. Realice un tabla de contingencia de la variable coworkers y supervisor. \n",
        "* ¿Cree que existe una relación entre las variables?\n",
        "* Realice al menos dos gráficos de barras entre estas variables y discuta los resultados. (10 puntos)\n",
        "\n",
        "*Las siguientes afirmaciones debe apoyarlas o refutarlas usando los datos*\n",
        "4. La gente busca ayuda psicologica solo si siente que la salud mental afecta su trabajo. (5 puntos)\n",
        "5. Los empleados sienten que sus jefes se preocupan muy poco por su salud fisica, y menos aún por la salud mental.(5 puntos)\n",
        "\n",
        "6. En las entrevistas de trabajo no se habla de salud fisica ni mental. (5 puntos)\n",
        "\n",
        "7. Entre más grande la empresa, más beneficios y programas para la salud mental pero menos confianza entre compañeros. (5 puntos)\n",
        "\n",
        "8. El trabajo remoto disminuye la confianza para hablar de salud mental. (5 puntos)\n",
        "\n",
        "9. Las personas que tienen antecendentes familiares de problemas de salud mental se ven más afectados por problemas de salud mental en el trabajo. (5 puntos)\n"
      ],
      "metadata": {
        "id": "kor3f3Nt7Qys"
      }
    },
    {
      "cell_type": "markdown",
      "source": [
        "## Códigos de ayuda\n"
      ],
      "metadata": {
        "id": "iXpcRC378Zm6"
      }
    },
    {
      "cell_type": "code",
      "source": [
        "## Si se quiere ordenar una variable, por ejemplo mental_health_interview\n",
        "datos %>% group_by(mental_health_interview) %>% count()\n",
        "\n",
        "### Deberia estar mejor en el orden NO -- Maybe -- Yes"
      ],
      "metadata": {
        "id": "RoFpEfjA8cni"
      },
      "execution_count": null,
      "outputs": []
    },
    {
      "cell_type": "code",
      "source": [
        "### Deben ejecutarse este codigo\n",
        "### MHI es el nombre de la variable que quiero crear\n",
        "\n",
        "datos = datos %>% mutate(MHI= factor(mental_health_interview, \n",
        "                                    levels = c(\"No\", \"Maybe\", \"Yes\"),\n",
        "                                     ordered=TRUE))\n",
        "\n",
        "datos %>% group_by(MHI) %>% count()\n",
        "\n",
        "### Debe tenerse especial cuidado en:\n",
        "### 1. QUe los nombres de los niveles sean iguales a los que ya existen en los datos\n",
        "### 2. Colocar un nombre facilmente reconocible a los datos"
      ],
      "metadata": {
        "id": "EkK_sdwz8zYx"
      },
      "execution_count": null,
      "outputs": []
    }
  ]
}