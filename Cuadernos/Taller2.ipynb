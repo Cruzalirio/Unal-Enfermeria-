{
  "nbformat": 4,
  "nbformat_minor": 0,
  "metadata": {
    "colab": {
      "provenance": []
    },
    "kernelspec": {
      "name": "ir",
      "display_name": "R"
    },
    "language_info": {
      "name": "R"
    }
  },
  "cells": [
    {
      "cell_type": "markdown",
      "source": [
        "# Fundamentos de Metodología Estadística\n",
        "\n",
        "Taller 1 de estadística descriptiva\n",
        "\n",
        "1. Fecha de envío = Jueves 6 de Abril\n",
        "2. Fecha de entrega = Sábado 29 de abril hasta las 23:59:59 GMT -5\n",
        "3. Es la primera parte del taller de analisis bivariante\n",
        "\n",
        "\n"
      ],
      "metadata": {
        "id": "xGZ8IgLZB0U2"
      }
    },
    {
      "cell_type": "markdown",
      "source": [
        "## Bases de datos\n",
        "1. Este conjunto de datos proviene de una encuesta de 2014 que mide las actitudes hacia la salud mental y la frecuencia de los trastornos de salud mental en el lugar de trabajo tecnológico. Mas información [click acá](https://www.kaggle.com/datasets/osmi/mental-health-in-tech-survey)\n",
        "\n",
        "Contenido\n",
        "Este conjunto de datos contiene los siguientes datos:\n",
        "1. **Timestamp**: Fecha de la entrevista\n",
        "2. **Age**: Edad\n",
        "3. **Gender**\n",
        "4. **Country**\n",
        "5. **state**: If you live in the United States, which state or territory do you live in?\n",
        "6. **self_employed**: Are you self-employed?\n",
        "7. **family_history**: Do you have a family history of mental illness?\n",
        "8. **treatment**: Have you sought treatment for a mental health condition?\n",
        "9. **work_interfere**: If you have a mental health condition, do you feel that it interferes with your work?\n",
        "10. **no_employees**: How many employees does your company or organization have?\n",
        "11. **remote_work**: Do you work remotely (outside of an office) at least 50% of the time?\n",
        "12. **tech_company**: Is your employer primarily a tech company/organization?\n",
        "13. **benefits**: Does your employer provide mental health benefits?\n",
        "14. **care_options**: Do you know the options for mental health care your employer provides?\n",
        "15. **wellness_program**: Has your employer ever discussed mental health as part of an employee wellness program?\n",
        "16. **seek_help**: Does your employer provide resources to learn more about mental health issues and how to seek help?\n",
        "17. **anonymity**: Is your anonymity protected if you choose to take advantage of mental health or substance abuse treatment resources?\n",
        "18. **leave**: How easy is it for you to take medical leave for a mental health condition?\n",
        "19. **mental_health_consequence**: Do you think that discussing a mental health issue with your employer would have negative consequences?\n",
        "20. **phys_health_consequence**: Do you think that discussing a physical health issue with your employer would have negative consequences?\n",
        "21. **coworkers**: Would you be willing to discuss a mental health issue with your coworkers?\n",
        "22. **supervisor**: Would you be willing to discuss a mental health issue with your direct supervisor(s)?\n",
        "23. **mental_health_interview**: Would you bring up a mental health issue with a potential employer in an interview?\n",
        "24. **phys_health_interview**: Would you bring up a physical health issue with a potential employer in an interview?\n",
        "25. **mental_vs_physical**: Do you feel that your employer takes mental health as seriously as physical health?\n",
        "26. **obs_consequence**: Have you heard of or observed negative consequences for coworkers with mental health conditions in your workplace?\n",
        "27. **comments**: Any additional notes or comments\n"
      ],
      "metadata": {
        "id": "YGoPzL9AJ0j5"
      }
    },
    {
      "cell_type": "code",
      "source": [
        "library(tidyverse)"
      ],
      "metadata": {
        "id": "6q7tEM4e2uNk",
        "colab": {
          "base_uri": "https://localhost:8080/"
        },
        "outputId": "e06844c8-fbf2-4e18-e646-22f164d9ac56"
      },
      "execution_count": 3,
      "outputs": [
        {
          "output_type": "stream",
          "name": "stderr",
          "text": [
            "Warning message in system(\"timedatectl\", intern = TRUE):\n",
            "“running command 'timedatectl' had status 1”\n",
            "── \u001b[1mAttaching packages\u001b[22m ─────────────────────────────────────── tidyverse 1.3.1 ──\n",
            "\n",
            "\u001b[32m✔\u001b[39m \u001b[34mggplot2\u001b[39m 3.4.1     \u001b[32m✔\u001b[39m \u001b[34mpurrr  \u001b[39m 1.0.1\n",
            "\u001b[32m✔\u001b[39m \u001b[34mtibble \u001b[39m 3.2.1     \u001b[32m✔\u001b[39m \u001b[34mdplyr  \u001b[39m 1.1.1\n",
            "\u001b[32m✔\u001b[39m \u001b[34mtidyr  \u001b[39m 1.3.0     \u001b[32m✔\u001b[39m \u001b[34mstringr\u001b[39m 1.4.1\n",
            "\u001b[32m✔\u001b[39m \u001b[34mreadr  \u001b[39m 2.1.4     \u001b[32m✔\u001b[39m \u001b[34mforcats\u001b[39m 1.0.0\n",
            "\n",
            "── \u001b[1mConflicts\u001b[22m ────────────────────────────────────────── tidyverse_conflicts() ──\n",
            "\u001b[31m✖\u001b[39m \u001b[34mdplyr\u001b[39m::\u001b[32mfilter()\u001b[39m masks \u001b[34mstats\u001b[39m::filter()\n",
            "\u001b[31m✖\u001b[39m \u001b[34mdplyr\u001b[39m::\u001b[32mlag()\u001b[39m    masks \u001b[34mstats\u001b[39m::lag()\n",
            "\n"
          ]
        }
      ]
    },
    {
      "cell_type": "markdown",
      "source": [
        "## Los datos\n",
        "\n",
        "1. Los datos para descarga estan [acá](https://github.com/Cruzalirio/Unal-Enfermeria-/blob/main/Datos/survey.csv)\n",
        "\n",
        "2. Tambien se pueden importar directo desde R con este código"
      ],
      "metadata": {
        "id": "M1lU0BXq57pd"
      }
    },
    {
      "cell_type": "code",
      "source": [
        "url =\"https://raw.githubusercontent.com/Cruzalirio/Unal-Enfermeria-/main/Datos/survey.csv\"\n",
        "datos = read_csv(url)\n",
        "head(datos)"
      ],
      "metadata": {
        "id": "pXzc_2Eo6vlJ",
        "colab": {
          "base_uri": "https://localhost:8080/",
          "height": 671
        },
        "outputId": "a8cd470d-fa88-4af5-b89b-2abefdf833eb"
      },
      "execution_count": null,
      "outputs": [
        {
          "output_type": "stream",
          "name": "stderr",
          "text": [
            "\u001b[1mRows: \u001b[22m\u001b[34m1259\u001b[39m \u001b[1mColumns: \u001b[22m\u001b[34m27\u001b[39m\n",
            "\u001b[36m──\u001b[39m \u001b[1mColumn specification\u001b[22m \u001b[36m────────────────────────────────────────────────────────\u001b[39m\n",
            "\u001b[1mDelimiter:\u001b[22m \",\"\n",
            "\u001b[31mchr\u001b[39m  (25): Gender, Country, state, self_employed, family_history, treatment,...\n",
            "\u001b[32mdbl\u001b[39m   (1): Age\n",
            "\u001b[34mdttm\u001b[39m  (1): Timestamp\n",
            "\n",
            "\u001b[36mℹ\u001b[39m Use `spec()` to retrieve the full column specification for this data.\n",
            "\u001b[36mℹ\u001b[39m Specify the column types or set `show_col_types = FALSE` to quiet this message.\n"
          ]
        },
        {
          "output_type": "display_data",
          "data": {
            "text/html": [
              "<table class=\"dataframe\">\n",
              "<caption>A tibble: 6 × 27</caption>\n",
              "<thead>\n",
              "\t<tr><th scope=col>Timestamp</th><th scope=col>Age</th><th scope=col>Gender</th><th scope=col>Country</th><th scope=col>state</th><th scope=col>self_employed</th><th scope=col>family_history</th><th scope=col>treatment</th><th scope=col>work_interfere</th><th scope=col>no_employees</th><th scope=col>⋯</th><th scope=col>leave</th><th scope=col>mental_health_consequence</th><th scope=col>phys_health_consequence</th><th scope=col>coworkers</th><th scope=col>supervisor</th><th scope=col>mental_health_interview</th><th scope=col>phys_health_interview</th><th scope=col>mental_vs_physical</th><th scope=col>obs_consequence</th><th scope=col>comments</th></tr>\n",
              "\t<tr><th scope=col>&lt;dttm&gt;</th><th scope=col>&lt;dbl&gt;</th><th scope=col>&lt;chr&gt;</th><th scope=col>&lt;chr&gt;</th><th scope=col>&lt;chr&gt;</th><th scope=col>&lt;chr&gt;</th><th scope=col>&lt;chr&gt;</th><th scope=col>&lt;chr&gt;</th><th scope=col>&lt;chr&gt;</th><th scope=col>&lt;chr&gt;</th><th scope=col>⋯</th><th scope=col>&lt;chr&gt;</th><th scope=col>&lt;chr&gt;</th><th scope=col>&lt;chr&gt;</th><th scope=col>&lt;chr&gt;</th><th scope=col>&lt;chr&gt;</th><th scope=col>&lt;chr&gt;</th><th scope=col>&lt;chr&gt;</th><th scope=col>&lt;chr&gt;</th><th scope=col>&lt;chr&gt;</th><th scope=col>&lt;chr&gt;</th></tr>\n",
              "</thead>\n",
              "<tbody>\n",
              "\t<tr><td>2014-08-27 11:29:31</td><td>37</td><td>Female</td><td>United States </td><td>IL</td><td>NA</td><td>No </td><td>Yes</td><td>Often    </td><td>6-25          </td><td>⋯</td><td>Somewhat easy     </td><td>No   </td><td>No </td><td>Some of them</td><td>Yes</td><td>No   </td><td>Maybe</td><td>Yes       </td><td>No </td><td>NA</td></tr>\n",
              "\t<tr><td>2014-08-27 11:29:37</td><td>44</td><td>M     </td><td>United States </td><td>IN</td><td>NA</td><td>No </td><td>No </td><td>Rarely   </td><td>More than 1000</td><td>⋯</td><td>Don't know        </td><td>Maybe</td><td>No </td><td>No          </td><td>No </td><td>No   </td><td>No   </td><td>Don't know</td><td>No </td><td>NA</td></tr>\n",
              "\t<tr><td>2014-08-27 11:29:44</td><td>32</td><td>Male  </td><td>Canada        </td><td>NA</td><td>NA</td><td>No </td><td>No </td><td>Rarely   </td><td>6-25          </td><td>⋯</td><td>Somewhat difficult</td><td>No   </td><td>No </td><td>Yes         </td><td>Yes</td><td>Yes  </td><td>Yes  </td><td>No        </td><td>No </td><td>NA</td></tr>\n",
              "\t<tr><td>2014-08-27 11:29:46</td><td>31</td><td>Male  </td><td>United Kingdom</td><td>NA</td><td>NA</td><td>Yes</td><td>Yes</td><td>Often    </td><td>26-100        </td><td>⋯</td><td>Somewhat difficult</td><td>Yes  </td><td>Yes</td><td>Some of them</td><td>No </td><td>Maybe</td><td>Maybe</td><td>No        </td><td>Yes</td><td>NA</td></tr>\n",
              "\t<tr><td>2014-08-27 11:30:22</td><td>31</td><td>Male  </td><td>United States </td><td>TX</td><td>NA</td><td>No </td><td>No </td><td>Never    </td><td>100-500       </td><td>⋯</td><td>Don't know        </td><td>No   </td><td>No </td><td>Some of them</td><td>Yes</td><td>Yes  </td><td>Yes  </td><td>Don't know</td><td>No </td><td>NA</td></tr>\n",
              "\t<tr><td>2014-08-27 11:31:22</td><td>33</td><td>Male  </td><td>United States </td><td>TN</td><td>NA</td><td>Yes</td><td>No </td><td>Sometimes</td><td>6-25          </td><td>⋯</td><td>Don't know        </td><td>No   </td><td>No </td><td>Yes         </td><td>Yes</td><td>No   </td><td>Maybe</td><td>Don't know</td><td>No </td><td>NA</td></tr>\n",
              "</tbody>\n",
              "</table>\n"
            ],
            "text/markdown": "\nA tibble: 6 × 27\n\n| Timestamp &lt;dttm&gt; | Age &lt;dbl&gt; | Gender &lt;chr&gt; | Country &lt;chr&gt; | state &lt;chr&gt; | self_employed &lt;chr&gt; | family_history &lt;chr&gt; | treatment &lt;chr&gt; | work_interfere &lt;chr&gt; | no_employees &lt;chr&gt; | ⋯ ⋯ | leave &lt;chr&gt; | mental_health_consequence &lt;chr&gt; | phys_health_consequence &lt;chr&gt; | coworkers &lt;chr&gt; | supervisor &lt;chr&gt; | mental_health_interview &lt;chr&gt; | phys_health_interview &lt;chr&gt; | mental_vs_physical &lt;chr&gt; | obs_consequence &lt;chr&gt; | comments &lt;chr&gt; |\n|---|---|---|---|---|---|---|---|---|---|---|---|---|---|---|---|---|---|---|---|---|\n| 2014-08-27 11:29:31 | 37 | Female | United States  | IL | NA | No  | Yes | Often     | 6-25           | ⋯ | Somewhat easy      | No    | No  | Some of them | Yes | No    | Maybe | Yes        | No  | NA |\n| 2014-08-27 11:29:37 | 44 | M      | United States  | IN | NA | No  | No  | Rarely    | More than 1000 | ⋯ | Don't know         | Maybe | No  | No           | No  | No    | No    | Don't know | No  | NA |\n| 2014-08-27 11:29:44 | 32 | Male   | Canada         | NA | NA | No  | No  | Rarely    | 6-25           | ⋯ | Somewhat difficult | No    | No  | Yes          | Yes | Yes   | Yes   | No         | No  | NA |\n| 2014-08-27 11:29:46 | 31 | Male   | United Kingdom | NA | NA | Yes | Yes | Often     | 26-100         | ⋯ | Somewhat difficult | Yes   | Yes | Some of them | No  | Maybe | Maybe | No         | Yes | NA |\n| 2014-08-27 11:30:22 | 31 | Male   | United States  | TX | NA | No  | No  | Never     | 100-500        | ⋯ | Don't know         | No    | No  | Some of them | Yes | Yes   | Yes   | Don't know | No  | NA |\n| 2014-08-27 11:31:22 | 33 | Male   | United States  | TN | NA | Yes | No  | Sometimes | 6-25           | ⋯ | Don't know         | No    | No  | Yes          | Yes | No    | Maybe | Don't know | No  | NA |\n\n",
            "text/latex": "A tibble: 6 × 27\n\\begin{tabular}{lllllllllllllllllllll}\n Timestamp & Age & Gender & Country & state & self\\_employed & family\\_history & treatment & work\\_interfere & no\\_employees & ⋯ & leave & mental\\_health\\_consequence & phys\\_health\\_consequence & coworkers & supervisor & mental\\_health\\_interview & phys\\_health\\_interview & mental\\_vs\\_physical & obs\\_consequence & comments\\\\\n <dttm> & <dbl> & <chr> & <chr> & <chr> & <chr> & <chr> & <chr> & <chr> & <chr> & ⋯ & <chr> & <chr> & <chr> & <chr> & <chr> & <chr> & <chr> & <chr> & <chr> & <chr>\\\\\n\\hline\n\t 2014-08-27 11:29:31 & 37 & Female & United States  & IL & NA & No  & Yes & Often     & 6-25           & ⋯ & Somewhat easy      & No    & No  & Some of them & Yes & No    & Maybe & Yes        & No  & NA\\\\\n\t 2014-08-27 11:29:37 & 44 & M      & United States  & IN & NA & No  & No  & Rarely    & More than 1000 & ⋯ & Don't know         & Maybe & No  & No           & No  & No    & No    & Don't know & No  & NA\\\\\n\t 2014-08-27 11:29:44 & 32 & Male   & Canada         & NA & NA & No  & No  & Rarely    & 6-25           & ⋯ & Somewhat difficult & No    & No  & Yes          & Yes & Yes   & Yes   & No         & No  & NA\\\\\n\t 2014-08-27 11:29:46 & 31 & Male   & United Kingdom & NA & NA & Yes & Yes & Often     & 26-100         & ⋯ & Somewhat difficult & Yes   & Yes & Some of them & No  & Maybe & Maybe & No         & Yes & NA\\\\\n\t 2014-08-27 11:30:22 & 31 & Male   & United States  & TX & NA & No  & No  & Never     & 100-500        & ⋯ & Don't know         & No    & No  & Some of them & Yes & Yes   & Yes   & Don't know & No  & NA\\\\\n\t 2014-08-27 11:31:22 & 33 & Male   & United States  & TN & NA & Yes & No  & Sometimes & 6-25           & ⋯ & Don't know         & No    & No  & Yes          & Yes & No    & Maybe & Don't know & No  & NA\\\\\n\\end{tabular}\n",
            "text/plain": [
              "  Timestamp           Age Gender Country        state self_employed\n",
              "1 2014-08-27 11:29:31 37  Female United States  IL    NA           \n",
              "2 2014-08-27 11:29:37 44  M      United States  IN    NA           \n",
              "3 2014-08-27 11:29:44 32  Male   Canada         NA    NA           \n",
              "4 2014-08-27 11:29:46 31  Male   United Kingdom NA    NA           \n",
              "5 2014-08-27 11:30:22 31  Male   United States  TX    NA           \n",
              "6 2014-08-27 11:31:22 33  Male   United States  TN    NA           \n",
              "  family_history treatment work_interfere no_employees   ⋯ leave             \n",
              "1 No             Yes       Often          6-25           ⋯ Somewhat easy     \n",
              "2 No             No        Rarely         More than 1000 ⋯ Don't know        \n",
              "3 No             No        Rarely         6-25           ⋯ Somewhat difficult\n",
              "4 Yes            Yes       Often          26-100         ⋯ Somewhat difficult\n",
              "5 No             No        Never          100-500        ⋯ Don't know        \n",
              "6 Yes            No        Sometimes      6-25           ⋯ Don't know        \n",
              "  mental_health_consequence phys_health_consequence coworkers    supervisor\n",
              "1 No                        No                      Some of them Yes       \n",
              "2 Maybe                     No                      No           No        \n",
              "3 No                        No                      Yes          Yes       \n",
              "4 Yes                       Yes                     Some of them No        \n",
              "5 No                        No                      Some of them Yes       \n",
              "6 No                        No                      Yes          Yes       \n",
              "  mental_health_interview phys_health_interview mental_vs_physical\n",
              "1 No                      Maybe                 Yes               \n",
              "2 No                      No                    Don't know        \n",
              "3 Yes                     Yes                   No                \n",
              "4 Maybe                   Maybe                 No                \n",
              "5 Yes                     Yes                   Don't know        \n",
              "6 No                      Maybe                 Don't know        \n",
              "  obs_consequence comments\n",
              "1 No              NA      \n",
              "2 No              NA      \n",
              "3 No              NA      \n",
              "4 Yes             NA      \n",
              "5 No              NA      \n",
              "6 No              NA      "
            ]
          },
          "metadata": {}
        }
      ]
    },
    {
      "cell_type": "markdown",
      "source": [
        "## Taller \n",
        "**Las siguientes preguntas deben entregarse en un archivo de Word o PDF, junto a un archivo de R con los códigos utilizados. Deben usarse pruebas Chi cuadrado, o test exacto de Fisher, coeficiente de contigencia, Tambien razones de Odds y Razones de riesgo, tambien debe discutirse porque sí o porque no se ve relación (Con gráficas)** \n",
        "\n",
        "1. ¿Que el trabajo sea remoto o no tiene relación con la asistencia o no a tratamientos de salud mental?\n",
        "2. ¿Que el trabajo sea remoto o no tiene relación con que la compañia sea de tecnología o no?\n",
        "3. Al tener un antecedente familiar de enfermedades mentales ¿aumenta el riesgo de recibir un tratamiento de salud mental?\n",
        "4. Haber visto consecuencias negativas en el trabajo para las personas que presentan problemas de salud mental, aumenta el riesgo de no hablar con el supervisor sobre los problemas de salud mental (Recategorice la variable salud mental en No (No y Some of them) y Sí (Yes)?\n",
        "5. ¿La respuesta anterior cambia sí solo se hace el analisis para las personas con trabajo presencial?\n",
        "6. ¿Existe relación entre las variables mental_health_consequence y phys_health_consequence?\n",
        "\n",
        "7. Entre las variable coworkers y supervisor. ¿Cree que existe una relación?\n",
        "\n",
        "8. La gente busca ayuda psicologica solo si siente que la salud mental afecta su trabajo. ¿Cómo resolvería esta pregunta?\n"
      ],
      "metadata": {
        "id": "kor3f3Nt7Qys"
      }
    },
    {
      "cell_type": "markdown",
      "source": [
        "## Códigos de ayuda\n"
      ],
      "metadata": {
        "id": "iXpcRC378Zm6"
      }
    },
    {
      "cell_type": "code",
      "source": [
        "## Si se quiere ordenar una variable, por ejemplo mental_health_interview\n",
        "datos %>% group_by(mental_health_interview) %>% count()\n",
        "\n",
        "### Deberia estar mejor en el orden NO -- Maybe -- Yes"
      ],
      "metadata": {
        "id": "RoFpEfjA8cni"
      },
      "execution_count": null,
      "outputs": []
    },
    {
      "cell_type": "code",
      "source": [
        "### Deben ejecutarse este codigo\n",
        "### MHI es el nombre de la variable que quiero crear\n",
        "\n",
        "datos = datos %>% mutate(MHI= factor(mental_health_interview, \n",
        "                                    levels = c(\"No\", \"Maybe\", \"Yes\"),\n",
        "                                     ordered=TRUE))\n",
        "\n",
        "datos %>% group_by(MHI) %>% count()\n",
        "\n",
        "### Debe tenerse especial cuidado en:\n",
        "### 1. QUe los nombres de los niveles sean iguales a los que ya existen en los datos\n",
        "### 2. Colocar un nombre facilmente reconocible a los datos"
      ],
      "metadata": {
        "id": "EkK_sdwz8zYx"
      },
      "execution_count": null,
      "outputs": []
    },
    {
      "cell_type": "markdown",
      "source": [
        "# Parte 2\n",
        "\n",
        "En el archivo [adjunto](https://raw.githubusercontent.com/Cruzalirio/Unal-Enfermeria-/main/Datos/Taller2_Parte2.csv) encontrarán los datos obtenidos de un estudio pre-post.\n",
        "1. 240 personas fueron observadas para la aplicación de una escala de salud mental.\n",
        "2. Las variables observadas fueron:\n",
        "- Edad\n",
        "- Sexo \n",
        "- Hijos\n",
        "- Ingresos (En SMMV)\n",
        "\n",
        "3. Se aplicó la escala antes del estudio de intervención, estos datos se anotan en la variable previa\n",
        "\n",
        "4. Se realizó un estudio de intervención y posterior se aplicó la escala para obtener los puntajes.\n",
        "\n",
        "5. Con los anteriores datos realizar los siguientes pasos:\n",
        "\n",
        "- Construir la variable diferencia: $Pos-Pre$\n",
        "- Realice la prueba de hipótesis para ver sí la intervención mejoró los resultados de la escala.\n",
        "- Realizar una gráfica por Sexo antes y después y discutirla.\n",
        "- Realizar una gráfica por Zona antes y después y discutirla.\n",
        "- Graficar la diferencia en los puntajes de acuerdo a la Edad y discutirla.\n",
        "- Realizar un ANOVA usando todas las variables para ver su efecto sobre la diferencia en los puntajes. Discutir la significancia de los resultados."
      ],
      "metadata": {
        "id": "5pA-DRQjyCnB"
      }
    },
    {
      "cell_type": "code",
      "source": [
        "datos = read_csv2(\"https://raw.githubusercontent.com/Cruzalirio/Unal-Enfermeria-/main/Datos/Taller2_Parte2.csv\")\n",
        "datos"
      ],
      "metadata": {
        "colab": {
          "base_uri": "https://localhost:8080/",
          "height": 1000
        },
        "id": "mMmqxQKAyFgx",
        "outputId": "7499a28b-9fac-4bf6-f22a-21fdd1584dce"
      },
      "execution_count": 5,
      "outputs": [
        {
          "output_type": "stream",
          "name": "stderr",
          "text": [
            "\u001b[36mℹ\u001b[39m Using \u001b[34m\u001b[34m\"','\"\u001b[34m\u001b[39m as decimal and \u001b[34m\u001b[34m\"'.'\"\u001b[34m\u001b[39m as grouping mark. Use `read_delim()` for more control.\n",
            "\n",
            "\u001b[1mRows: \u001b[22m\u001b[34m240\u001b[39m \u001b[1mColumns: \u001b[22m\u001b[34m7\u001b[39m\n",
            "\u001b[36m──\u001b[39m \u001b[1mColumn specification\u001b[22m \u001b[36m────────────────────────────────────────────────────────\u001b[39m\n",
            "\u001b[1mDelimiter:\u001b[22m \";\"\n",
            "\u001b[31mchr\u001b[39m (2): Sexo, Zona\n",
            "\u001b[32mdbl\u001b[39m (5): Edad, Hijos, Ingresos, Previo, Posterior\n",
            "\n",
            "\u001b[36mℹ\u001b[39m Use `spec()` to retrieve the full column specification for this data.\n",
            "\u001b[36mℹ\u001b[39m Specify the column types or set `show_col_types = FALSE` to quiet this message.\n"
          ]
        },
        {
          "output_type": "display_data",
          "data": {
            "text/html": [
              "<table class=\"dataframe\">\n",
              "<caption>A spec_tbl_df: 240 × 7</caption>\n",
              "<thead>\n",
              "\t<tr><th scope=col>Sexo</th><th scope=col>Edad</th><th scope=col>Hijos</th><th scope=col>Zona</th><th scope=col>Ingresos</th><th scope=col>Previo</th><th scope=col>Posterior</th></tr>\n",
              "\t<tr><th scope=col>&lt;chr&gt;</th><th scope=col>&lt;dbl&gt;</th><th scope=col>&lt;dbl&gt;</th><th scope=col>&lt;chr&gt;</th><th scope=col>&lt;dbl&gt;</th><th scope=col>&lt;dbl&gt;</th><th scope=col>&lt;dbl&gt;</th></tr>\n",
              "</thead>\n",
              "<tbody>\n",
              "\t<tr><td>Masculino</td><td>38</td><td>2</td><td>Urbana</td><td>1</td><td>20</td><td>22</td></tr>\n",
              "\t<tr><td>Femenino </td><td>39</td><td>1</td><td>Urbana</td><td>6</td><td>38</td><td>43</td></tr>\n",
              "\t<tr><td>Masculino</td><td>50</td><td>0</td><td>Urbana</td><td>3</td><td>24</td><td>36</td></tr>\n",
              "\t<tr><td>Masculino</td><td>51</td><td>2</td><td>Urbana</td><td>4</td><td>43</td><td>54</td></tr>\n",
              "\t<tr><td>Femenino </td><td>59</td><td>1</td><td>Urbana</td><td>4</td><td>49</td><td>66</td></tr>\n",
              "\t<tr><td>Masculino</td><td>57</td><td>4</td><td>Urbana</td><td>2</td><td>59</td><td>74</td></tr>\n",
              "\t<tr><td>Femenino </td><td>64</td><td>3</td><td>Urbana</td><td>8</td><td>74</td><td>82</td></tr>\n",
              "\t<tr><td>Femenino </td><td>53</td><td>2</td><td>Urbana</td><td>3</td><td>46</td><td>65</td></tr>\n",
              "\t<tr><td>Femenino </td><td>40</td><td>3</td><td>Urbana</td><td>3</td><td>43</td><td>49</td></tr>\n",
              "\t<tr><td>Femenino </td><td>51</td><td>1</td><td>Urbana</td><td>6</td><td>47</td><td>55</td></tr>\n",
              "\t<tr><td>Femenino </td><td>46</td><td>0</td><td>Urbana</td><td>2</td><td>19</td><td>43</td></tr>\n",
              "\t<tr><td>Femenino </td><td>39</td><td>2</td><td>Urbana</td><td>2</td><td>28</td><td>46</td></tr>\n",
              "\t<tr><td>Femenino </td><td>47</td><td>6</td><td>Urbana</td><td>3</td><td>59</td><td>79</td></tr>\n",
              "\t<tr><td>Femenino </td><td>41</td><td>3</td><td>Urbana</td><td>2</td><td>46</td><td>39</td></tr>\n",
              "\t<tr><td>Masculino</td><td>39</td><td>0</td><td>Urbana</td><td>4</td><td>23</td><td>31</td></tr>\n",
              "\t<tr><td>Masculino</td><td>50</td><td>1</td><td>Urbana</td><td>2</td><td>22</td><td>48</td></tr>\n",
              "\t<tr><td>Femenino </td><td>39</td><td>2</td><td>Urbana</td><td>4</td><td>30</td><td>49</td></tr>\n",
              "\t<tr><td>Femenino </td><td>67</td><td>1</td><td>Rural </td><td>2</td><td>33</td><td>53</td></tr>\n",
              "\t<tr><td>Masculino</td><td>67</td><td>2</td><td>Urbana</td><td>8</td><td>64</td><td>75</td></tr>\n",
              "\t<tr><td>Femenino </td><td>49</td><td>2</td><td>Urbana</td><td>4</td><td>32</td><td>64</td></tr>\n",
              "\t<tr><td>Femenino </td><td>49</td><td>3</td><td>Urbana</td><td>3</td><td>48</td><td>66</td></tr>\n",
              "\t<tr><td>Femenino </td><td>61</td><td>3</td><td>Urbana</td><td>4</td><td>68</td><td>83</td></tr>\n",
              "\t<tr><td>Femenino </td><td>60</td><td>0</td><td>Rural </td><td>3</td><td>39</td><td>43</td></tr>\n",
              "\t<tr><td>Femenino </td><td>53</td><td>0</td><td>Urbana</td><td>4</td><td>53</td><td>46</td></tr>\n",
              "\t<tr><td>Masculino</td><td>39</td><td>2</td><td>Urbana</td><td>5</td><td>26</td><td>39</td></tr>\n",
              "\t<tr><td>Masculino</td><td>34</td><td>5</td><td>Rural </td><td>4</td><td>21</td><td>39</td></tr>\n",
              "\t<tr><td>Femenino </td><td>55</td><td>3</td><td>Urbana</td><td>6</td><td>70</td><td>71</td></tr>\n",
              "\t<tr><td>Femenino </td><td>44</td><td>2</td><td>Urbana</td><td>5</td><td>34</td><td>53</td></tr>\n",
              "\t<tr><td>Masculino</td><td>48</td><td>0</td><td>Urbana</td><td>6</td><td>43</td><td>46</td></tr>\n",
              "\t<tr><td>Femenino </td><td>22</td><td>2</td><td>Urbana</td><td>4</td><td>-4</td><td>37</td></tr>\n",
              "\t<tr><td>⋮</td><td>⋮</td><td>⋮</td><td>⋮</td><td>⋮</td><td>⋮</td><td>⋮</td></tr>\n",
              "\t<tr><td>Masculino</td><td>65</td><td>4</td><td>Rural </td><td>3</td><td>54</td><td>70</td></tr>\n",
              "\t<tr><td>Masculino</td><td>54</td><td>6</td><td>Rural </td><td>2</td><td>45</td><td>56</td></tr>\n",
              "\t<tr><td>Femenino </td><td>55</td><td>0</td><td>Urbana</td><td>4</td><td>46</td><td>57</td></tr>\n",
              "\t<tr><td>Masculino</td><td>49</td><td>1</td><td>Urbana</td><td>9</td><td>34</td><td>65</td></tr>\n",
              "\t<tr><td>Femenino </td><td>32</td><td>2</td><td>Rural </td><td>1</td><td>12</td><td>19</td></tr>\n",
              "\t<tr><td>Femenino </td><td>34</td><td>4</td><td>Urbana</td><td>2</td><td>37</td><td>53</td></tr>\n",
              "\t<tr><td>Masculino</td><td>25</td><td>1</td><td>Urbana</td><td>4</td><td>12</td><td>22</td></tr>\n",
              "\t<tr><td>Femenino </td><td>29</td><td>0</td><td>Rural </td><td>2</td><td> 8</td><td>20</td></tr>\n",
              "\t<tr><td>Femenino </td><td>65</td><td>3</td><td>Urbana</td><td>2</td><td>58</td><td>77</td></tr>\n",
              "\t<tr><td>Femenino </td><td>46</td><td>1</td><td>Urbana</td><td>2</td><td>32</td><td>48</td></tr>\n",
              "\t<tr><td>Femenino </td><td>53</td><td>0</td><td>Urbana</td><td>4</td><td>43</td><td>59</td></tr>\n",
              "\t<tr><td>Masculino</td><td>56</td><td>1</td><td>Urbana</td><td>3</td><td>22</td><td>37</td></tr>\n",
              "\t<tr><td>Femenino </td><td>47</td><td>1</td><td>Rural </td><td>2</td><td>16</td><td>31</td></tr>\n",
              "\t<tr><td>Femenino </td><td>57</td><td>2</td><td>Urbana</td><td>3</td><td>50</td><td>72</td></tr>\n",
              "\t<tr><td>Femenino </td><td>41</td><td>0</td><td>Urbana</td><td>8</td><td>42</td><td>44</td></tr>\n",
              "\t<tr><td>Masculino</td><td>58</td><td>1</td><td>Urbana</td><td>2</td><td>44</td><td>52</td></tr>\n",
              "\t<tr><td>Femenino </td><td>39</td><td>1</td><td>Urbana</td><td>5</td><td>36</td><td>43</td></tr>\n",
              "\t<tr><td>Femenino </td><td>40</td><td>5</td><td>Urbana</td><td>2</td><td>45</td><td>54</td></tr>\n",
              "\t<tr><td>Femenino </td><td>29</td><td>1</td><td>Urbana</td><td>2</td><td>14</td><td>33</td></tr>\n",
              "\t<tr><td>Femenino </td><td>50</td><td>3</td><td>Urbana</td><td>4</td><td>50</td><td>61</td></tr>\n",
              "\t<tr><td>Femenino </td><td>63</td><td>4</td><td>Urbana</td><td>7</td><td>79</td><td>68</td></tr>\n",
              "\t<tr><td>Masculino</td><td>51</td><td>4</td><td>Urbana</td><td>8</td><td>61</td><td>68</td></tr>\n",
              "\t<tr><td>Masculino</td><td>65</td><td>1</td><td>Rural </td><td>3</td><td>31</td><td>52</td></tr>\n",
              "\t<tr><td>Femenino </td><td>55</td><td>1</td><td>Urbana</td><td>3</td><td>52</td><td>57</td></tr>\n",
              "\t<tr><td>Femenino </td><td>34</td><td>2</td><td>Urbana</td><td>2</td><td>33</td><td>44</td></tr>\n",
              "\t<tr><td>Femenino </td><td>43</td><td>1</td><td>Urbana</td><td>3</td><td>25</td><td>54</td></tr>\n",
              "\t<tr><td>Femenino </td><td>58</td><td>2</td><td>Urbana</td><td>3</td><td>58</td><td>70</td></tr>\n",
              "\t<tr><td>Masculino</td><td>45</td><td>2</td><td>Urbana</td><td>2</td><td>28</td><td>52</td></tr>\n",
              "\t<tr><td>Femenino </td><td>50</td><td>5</td><td>Rural </td><td>3</td><td>39</td><td>58</td></tr>\n",
              "\t<tr><td>Femenino </td><td>59</td><td>5</td><td>Urbana</td><td>3</td><td>67</td><td>82</td></tr>\n",
              "</tbody>\n",
              "</table>\n"
            ],
            "text/markdown": "\nA spec_tbl_df: 240 × 7\n\n| Sexo &lt;chr&gt; | Edad &lt;dbl&gt; | Hijos &lt;dbl&gt; | Zona &lt;chr&gt; | Ingresos &lt;dbl&gt; | Previo &lt;dbl&gt; | Posterior &lt;dbl&gt; |\n|---|---|---|---|---|---|---|\n| Masculino | 38 | 2 | Urbana | 1 | 20 | 22 |\n| Femenino  | 39 | 1 | Urbana | 6 | 38 | 43 |\n| Masculino | 50 | 0 | Urbana | 3 | 24 | 36 |\n| Masculino | 51 | 2 | Urbana | 4 | 43 | 54 |\n| Femenino  | 59 | 1 | Urbana | 4 | 49 | 66 |\n| Masculino | 57 | 4 | Urbana | 2 | 59 | 74 |\n| Femenino  | 64 | 3 | Urbana | 8 | 74 | 82 |\n| Femenino  | 53 | 2 | Urbana | 3 | 46 | 65 |\n| Femenino  | 40 | 3 | Urbana | 3 | 43 | 49 |\n| Femenino  | 51 | 1 | Urbana | 6 | 47 | 55 |\n| Femenino  | 46 | 0 | Urbana | 2 | 19 | 43 |\n| Femenino  | 39 | 2 | Urbana | 2 | 28 | 46 |\n| Femenino  | 47 | 6 | Urbana | 3 | 59 | 79 |\n| Femenino  | 41 | 3 | Urbana | 2 | 46 | 39 |\n| Masculino | 39 | 0 | Urbana | 4 | 23 | 31 |\n| Masculino | 50 | 1 | Urbana | 2 | 22 | 48 |\n| Femenino  | 39 | 2 | Urbana | 4 | 30 | 49 |\n| Femenino  | 67 | 1 | Rural  | 2 | 33 | 53 |\n| Masculino | 67 | 2 | Urbana | 8 | 64 | 75 |\n| Femenino  | 49 | 2 | Urbana | 4 | 32 | 64 |\n| Femenino  | 49 | 3 | Urbana | 3 | 48 | 66 |\n| Femenino  | 61 | 3 | Urbana | 4 | 68 | 83 |\n| Femenino  | 60 | 0 | Rural  | 3 | 39 | 43 |\n| Femenino  | 53 | 0 | Urbana | 4 | 53 | 46 |\n| Masculino | 39 | 2 | Urbana | 5 | 26 | 39 |\n| Masculino | 34 | 5 | Rural  | 4 | 21 | 39 |\n| Femenino  | 55 | 3 | Urbana | 6 | 70 | 71 |\n| Femenino  | 44 | 2 | Urbana | 5 | 34 | 53 |\n| Masculino | 48 | 0 | Urbana | 6 | 43 | 46 |\n| Femenino  | 22 | 2 | Urbana | 4 | -4 | 37 |\n| ⋮ | ⋮ | ⋮ | ⋮ | ⋮ | ⋮ | ⋮ |\n| Masculino | 65 | 4 | Rural  | 3 | 54 | 70 |\n| Masculino | 54 | 6 | Rural  | 2 | 45 | 56 |\n| Femenino  | 55 | 0 | Urbana | 4 | 46 | 57 |\n| Masculino | 49 | 1 | Urbana | 9 | 34 | 65 |\n| Femenino  | 32 | 2 | Rural  | 1 | 12 | 19 |\n| Femenino  | 34 | 4 | Urbana | 2 | 37 | 53 |\n| Masculino | 25 | 1 | Urbana | 4 | 12 | 22 |\n| Femenino  | 29 | 0 | Rural  | 2 |  8 | 20 |\n| Femenino  | 65 | 3 | Urbana | 2 | 58 | 77 |\n| Femenino  | 46 | 1 | Urbana | 2 | 32 | 48 |\n| Femenino  | 53 | 0 | Urbana | 4 | 43 | 59 |\n| Masculino | 56 | 1 | Urbana | 3 | 22 | 37 |\n| Femenino  | 47 | 1 | Rural  | 2 | 16 | 31 |\n| Femenino  | 57 | 2 | Urbana | 3 | 50 | 72 |\n| Femenino  | 41 | 0 | Urbana | 8 | 42 | 44 |\n| Masculino | 58 | 1 | Urbana | 2 | 44 | 52 |\n| Femenino  | 39 | 1 | Urbana | 5 | 36 | 43 |\n| Femenino  | 40 | 5 | Urbana | 2 | 45 | 54 |\n| Femenino  | 29 | 1 | Urbana | 2 | 14 | 33 |\n| Femenino  | 50 | 3 | Urbana | 4 | 50 | 61 |\n| Femenino  | 63 | 4 | Urbana | 7 | 79 | 68 |\n| Masculino | 51 | 4 | Urbana | 8 | 61 | 68 |\n| Masculino | 65 | 1 | Rural  | 3 | 31 | 52 |\n| Femenino  | 55 | 1 | Urbana | 3 | 52 | 57 |\n| Femenino  | 34 | 2 | Urbana | 2 | 33 | 44 |\n| Femenino  | 43 | 1 | Urbana | 3 | 25 | 54 |\n| Femenino  | 58 | 2 | Urbana | 3 | 58 | 70 |\n| Masculino | 45 | 2 | Urbana | 2 | 28 | 52 |\n| Femenino  | 50 | 5 | Rural  | 3 | 39 | 58 |\n| Femenino  | 59 | 5 | Urbana | 3 | 67 | 82 |\n\n",
            "text/latex": "A spec\\_tbl\\_df: 240 × 7\n\\begin{tabular}{lllllll}\n Sexo & Edad & Hijos & Zona & Ingresos & Previo & Posterior\\\\\n <chr> & <dbl> & <dbl> & <chr> & <dbl> & <dbl> & <dbl>\\\\\n\\hline\n\t Masculino & 38 & 2 & Urbana & 1 & 20 & 22\\\\\n\t Femenino  & 39 & 1 & Urbana & 6 & 38 & 43\\\\\n\t Masculino & 50 & 0 & Urbana & 3 & 24 & 36\\\\\n\t Masculino & 51 & 2 & Urbana & 4 & 43 & 54\\\\\n\t Femenino  & 59 & 1 & Urbana & 4 & 49 & 66\\\\\n\t Masculino & 57 & 4 & Urbana & 2 & 59 & 74\\\\\n\t Femenino  & 64 & 3 & Urbana & 8 & 74 & 82\\\\\n\t Femenino  & 53 & 2 & Urbana & 3 & 46 & 65\\\\\n\t Femenino  & 40 & 3 & Urbana & 3 & 43 & 49\\\\\n\t Femenino  & 51 & 1 & Urbana & 6 & 47 & 55\\\\\n\t Femenino  & 46 & 0 & Urbana & 2 & 19 & 43\\\\\n\t Femenino  & 39 & 2 & Urbana & 2 & 28 & 46\\\\\n\t Femenino  & 47 & 6 & Urbana & 3 & 59 & 79\\\\\n\t Femenino  & 41 & 3 & Urbana & 2 & 46 & 39\\\\\n\t Masculino & 39 & 0 & Urbana & 4 & 23 & 31\\\\\n\t Masculino & 50 & 1 & Urbana & 2 & 22 & 48\\\\\n\t Femenino  & 39 & 2 & Urbana & 4 & 30 & 49\\\\\n\t Femenino  & 67 & 1 & Rural  & 2 & 33 & 53\\\\\n\t Masculino & 67 & 2 & Urbana & 8 & 64 & 75\\\\\n\t Femenino  & 49 & 2 & Urbana & 4 & 32 & 64\\\\\n\t Femenino  & 49 & 3 & Urbana & 3 & 48 & 66\\\\\n\t Femenino  & 61 & 3 & Urbana & 4 & 68 & 83\\\\\n\t Femenino  & 60 & 0 & Rural  & 3 & 39 & 43\\\\\n\t Femenino  & 53 & 0 & Urbana & 4 & 53 & 46\\\\\n\t Masculino & 39 & 2 & Urbana & 5 & 26 & 39\\\\\n\t Masculino & 34 & 5 & Rural  & 4 & 21 & 39\\\\\n\t Femenino  & 55 & 3 & Urbana & 6 & 70 & 71\\\\\n\t Femenino  & 44 & 2 & Urbana & 5 & 34 & 53\\\\\n\t Masculino & 48 & 0 & Urbana & 6 & 43 & 46\\\\\n\t Femenino  & 22 & 2 & Urbana & 4 & -4 & 37\\\\\n\t ⋮ & ⋮ & ⋮ & ⋮ & ⋮ & ⋮ & ⋮\\\\\n\t Masculino & 65 & 4 & Rural  & 3 & 54 & 70\\\\\n\t Masculino & 54 & 6 & Rural  & 2 & 45 & 56\\\\\n\t Femenino  & 55 & 0 & Urbana & 4 & 46 & 57\\\\\n\t Masculino & 49 & 1 & Urbana & 9 & 34 & 65\\\\\n\t Femenino  & 32 & 2 & Rural  & 1 & 12 & 19\\\\\n\t Femenino  & 34 & 4 & Urbana & 2 & 37 & 53\\\\\n\t Masculino & 25 & 1 & Urbana & 4 & 12 & 22\\\\\n\t Femenino  & 29 & 0 & Rural  & 2 &  8 & 20\\\\\n\t Femenino  & 65 & 3 & Urbana & 2 & 58 & 77\\\\\n\t Femenino  & 46 & 1 & Urbana & 2 & 32 & 48\\\\\n\t Femenino  & 53 & 0 & Urbana & 4 & 43 & 59\\\\\n\t Masculino & 56 & 1 & Urbana & 3 & 22 & 37\\\\\n\t Femenino  & 47 & 1 & Rural  & 2 & 16 & 31\\\\\n\t Femenino  & 57 & 2 & Urbana & 3 & 50 & 72\\\\\n\t Femenino  & 41 & 0 & Urbana & 8 & 42 & 44\\\\\n\t Masculino & 58 & 1 & Urbana & 2 & 44 & 52\\\\\n\t Femenino  & 39 & 1 & Urbana & 5 & 36 & 43\\\\\n\t Femenino  & 40 & 5 & Urbana & 2 & 45 & 54\\\\\n\t Femenino  & 29 & 1 & Urbana & 2 & 14 & 33\\\\\n\t Femenino  & 50 & 3 & Urbana & 4 & 50 & 61\\\\\n\t Femenino  & 63 & 4 & Urbana & 7 & 79 & 68\\\\\n\t Masculino & 51 & 4 & Urbana & 8 & 61 & 68\\\\\n\t Masculino & 65 & 1 & Rural  & 3 & 31 & 52\\\\\n\t Femenino  & 55 & 1 & Urbana & 3 & 52 & 57\\\\\n\t Femenino  & 34 & 2 & Urbana & 2 & 33 & 44\\\\\n\t Femenino  & 43 & 1 & Urbana & 3 & 25 & 54\\\\\n\t Femenino  & 58 & 2 & Urbana & 3 & 58 & 70\\\\\n\t Masculino & 45 & 2 & Urbana & 2 & 28 & 52\\\\\n\t Femenino  & 50 & 5 & Rural  & 3 & 39 & 58\\\\\n\t Femenino  & 59 & 5 & Urbana & 3 & 67 & 82\\\\\n\\end{tabular}\n",
            "text/plain": [
              "    Sexo      Edad Hijos Zona   Ingresos Previo Posterior\n",
              "1   Masculino 38   2     Urbana 1        20     22       \n",
              "2   Femenino  39   1     Urbana 6        38     43       \n",
              "3   Masculino 50   0     Urbana 3        24     36       \n",
              "4   Masculino 51   2     Urbana 4        43     54       \n",
              "5   Femenino  59   1     Urbana 4        49     66       \n",
              "6   Masculino 57   4     Urbana 2        59     74       \n",
              "7   Femenino  64   3     Urbana 8        74     82       \n",
              "8   Femenino  53   2     Urbana 3        46     65       \n",
              "9   Femenino  40   3     Urbana 3        43     49       \n",
              "10  Femenino  51   1     Urbana 6        47     55       \n",
              "11  Femenino  46   0     Urbana 2        19     43       \n",
              "12  Femenino  39   2     Urbana 2        28     46       \n",
              "13  Femenino  47   6     Urbana 3        59     79       \n",
              "14  Femenino  41   3     Urbana 2        46     39       \n",
              "15  Masculino 39   0     Urbana 4        23     31       \n",
              "16  Masculino 50   1     Urbana 2        22     48       \n",
              "17  Femenino  39   2     Urbana 4        30     49       \n",
              "18  Femenino  67   1     Rural  2        33     53       \n",
              "19  Masculino 67   2     Urbana 8        64     75       \n",
              "20  Femenino  49   2     Urbana 4        32     64       \n",
              "21  Femenino  49   3     Urbana 3        48     66       \n",
              "22  Femenino  61   3     Urbana 4        68     83       \n",
              "23  Femenino  60   0     Rural  3        39     43       \n",
              "24  Femenino  53   0     Urbana 4        53     46       \n",
              "25  Masculino 39   2     Urbana 5        26     39       \n",
              "26  Masculino 34   5     Rural  4        21     39       \n",
              "27  Femenino  55   3     Urbana 6        70     71       \n",
              "28  Femenino  44   2     Urbana 5        34     53       \n",
              "29  Masculino 48   0     Urbana 6        43     46       \n",
              "30  Femenino  22   2     Urbana 4        -4     37       \n",
              "⋮   ⋮         ⋮    ⋮     ⋮      ⋮        ⋮      ⋮        \n",
              "211 Masculino 65   4     Rural  3        54     70       \n",
              "212 Masculino 54   6     Rural  2        45     56       \n",
              "213 Femenino  55   0     Urbana 4        46     57       \n",
              "214 Masculino 49   1     Urbana 9        34     65       \n",
              "215 Femenino  32   2     Rural  1        12     19       \n",
              "216 Femenino  34   4     Urbana 2        37     53       \n",
              "217 Masculino 25   1     Urbana 4        12     22       \n",
              "218 Femenino  29   0     Rural  2         8     20       \n",
              "219 Femenino  65   3     Urbana 2        58     77       \n",
              "220 Femenino  46   1     Urbana 2        32     48       \n",
              "221 Femenino  53   0     Urbana 4        43     59       \n",
              "222 Masculino 56   1     Urbana 3        22     37       \n",
              "223 Femenino  47   1     Rural  2        16     31       \n",
              "224 Femenino  57   2     Urbana 3        50     72       \n",
              "225 Femenino  41   0     Urbana 8        42     44       \n",
              "226 Masculino 58   1     Urbana 2        44     52       \n",
              "227 Femenino  39   1     Urbana 5        36     43       \n",
              "228 Femenino  40   5     Urbana 2        45     54       \n",
              "229 Femenino  29   1     Urbana 2        14     33       \n",
              "230 Femenino  50   3     Urbana 4        50     61       \n",
              "231 Femenino  63   4     Urbana 7        79     68       \n",
              "232 Masculino 51   4     Urbana 8        61     68       \n",
              "233 Masculino 65   1     Rural  3        31     52       \n",
              "234 Femenino  55   1     Urbana 3        52     57       \n",
              "235 Femenino  34   2     Urbana 2        33     44       \n",
              "236 Femenino  43   1     Urbana 3        25     54       \n",
              "237 Femenino  58   2     Urbana 3        58     70       \n",
              "238 Masculino 45   2     Urbana 2        28     52       \n",
              "239 Femenino  50   5     Rural  3        39     58       \n",
              "240 Femenino  59   5     Urbana 3        67     82       "
            ]
          },
          "metadata": {}
        }
      ]
    }
  ]
}