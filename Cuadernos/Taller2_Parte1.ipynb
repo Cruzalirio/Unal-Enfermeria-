{
  "nbformat": 4,
  "nbformat_minor": 0,
  "metadata": {
    "colab": {
      "provenance": []
    },
    "kernelspec": {
      "name": "ir",
      "display_name": "R"
    },
    "language_info": {
      "name": "R"
    }
  },
  "cells": [
    {
      "cell_type": "markdown",
      "source": [
        "# Fundamentos de Metodología Estadística\n",
        "\n",
        "Taller 1 de estadística descriptiva\n",
        "\n",
        "1. Fecha de envío = Jueves 6 de Abril\n",
        "2. Fecha de entrega = Jueves 20 de abril hasta las 23:59:59 GMT -5\n",
        "3. Es la primera parte del taller de analisis bivariante\n",
        "\n",
        "\n"
      ],
      "metadata": {
        "id": "xGZ8IgLZB0U2"
      }
    },
    {
      "cell_type": "markdown",
      "source": [
        "## Bases de datos\n",
        "1. Este conjunto de datos proviene de una encuesta de 2014 que mide las actitudes hacia la salud mental y la frecuencia de los trastornos de salud mental en el lugar de trabajo tecnológico. Mas información [click acá](https://www.kaggle.com/datasets/osmi/mental-health-in-tech-survey)\n",
        "\n",
        "Contenido\n",
        "Este conjunto de datos contiene los siguientes datos:\n",
        "1. **Timestamp**: Fecha de la entrevista\n",
        "2. **Age**: Edad\n",
        "3. **Gender**\n",
        "4. **Country**\n",
        "5. **state**: If you live in the United States, which state or territory do you live in?\n",
        "6. **self_employed**: Are you self-employed?\n",
        "7. **family_history**: Do you have a family history of mental illness?\n",
        "8. **treatment**: Have you sought treatment for a mental health condition?\n",
        "9. **work_interfere**: If you have a mental health condition, do you feel that it interferes with your work?\n",
        "10. **no_employees**: How many employees does your company or organization have?\n",
        "11. **remote_work**: Do you work remotely (outside of an office) at least 50% of the time?\n",
        "12. **tech_company**: Is your employer primarily a tech company/organization?\n",
        "13. **benefits**: Does your employer provide mental health benefits?\n",
        "14. **care_options**: Do you know the options for mental health care your employer provides?\n",
        "15. **wellness_program**: Has your employer ever discussed mental health as part of an employee wellness program?\n",
        "16. **seek_help**: Does your employer provide resources to learn more about mental health issues and how to seek help?\n",
        "17. **anonymity**: Is your anonymity protected if you choose to take advantage of mental health or substance abuse treatment resources?\n",
        "18. **leave**: How easy is it for you to take medical leave for a mental health condition?\n",
        "19. **mental_health_consequence**: Do you think that discussing a mental health issue with your employer would have negative consequences?\n",
        "20. **phys_health_consequence**: Do you think that discussing a physical health issue with your employer would have negative consequences?\n",
        "21. **coworkers**: Would you be willing to discuss a mental health issue with your coworkers?\n",
        "22. **supervisor**: Would you be willing to discuss a mental health issue with your direct supervisor(s)?\n",
        "23. **mental_health_interview**: Would you bring up a mental health issue with a potential employer in an interview?\n",
        "24. **phys_health_interview**: Would you bring up a physical health issue with a potential employer in an interview?\n",
        "25. **mental_vs_physical**: Do you feel that your employer takes mental health as seriously as physical health?\n",
        "26. **obs_consequence**: Have you heard of or observed negative consequences for coworkers with mental health conditions in your workplace?\n",
        "27. **comments**: Any additional notes or comments\n",
        "\n",
        "Inspiration\n",
        "Some questions worth exploring:\n",
        "\n",
        "How does the frequency of mental health illness and attitudes towards mental health vary by geographic location?\n",
        "What are the strongest predictors of mental health illness or certain attitudes towards mental health in the workplace?\n",
        "Acknowledgements\n",
        "The original dataset is from Open Sourcing Mental Illness and can be downloaded here.\n"
      ],
      "metadata": {
        "id": "YGoPzL9AJ0j5"
      }
    },
    {
      "cell_type": "code",
      "source": [
        "library(tidyverse)"
      ],
      "metadata": {
        "id": "6q7tEM4e2uNk",
        "colab": {
          "base_uri": "https://localhost:8080/"
        },
        "outputId": "e0889803-f112-4c08-bcfa-5fb8c76a0d9d"
      },
      "execution_count": 2,
      "outputs": [
        {
          "output_type": "stream",
          "name": "stderr",
          "text": [
            "Warning message in system(\"timedatectl\", intern = TRUE):\n",
            "“running command 'timedatectl' had status 1”\n",
            "── \u001b[1mAttaching packages\u001b[22m ─────────────────────────────────────── tidyverse 1.3.1 ──\n",
            "\n",
            "\u001b[32m✔\u001b[39m \u001b[34mggplot2\u001b[39m 3.4.1     \u001b[32m✔\u001b[39m \u001b[34mpurrr  \u001b[39m 1.0.1\n",
            "\u001b[32m✔\u001b[39m \u001b[34mtibble \u001b[39m 3.2.1     \u001b[32m✔\u001b[39m \u001b[34mdplyr  \u001b[39m 1.1.1\n",
            "\u001b[32m✔\u001b[39m \u001b[34mtidyr  \u001b[39m 1.3.0     \u001b[32m✔\u001b[39m \u001b[34mstringr\u001b[39m 1.4.1\n",
            "\u001b[32m✔\u001b[39m \u001b[34mreadr  \u001b[39m 2.1.4     \u001b[32m✔\u001b[39m \u001b[34mforcats\u001b[39m 1.0.0\n",
            "\n",
            "── \u001b[1mConflicts\u001b[22m ────────────────────────────────────────── tidyverse_conflicts() ──\n",
            "\u001b[31m✖\u001b[39m \u001b[34mdplyr\u001b[39m::\u001b[32mfilter()\u001b[39m masks \u001b[34mstats\u001b[39m::filter()\n",
            "\u001b[31m✖\u001b[39m \u001b[34mdplyr\u001b[39m::\u001b[32mlag()\u001b[39m    masks \u001b[34mstats\u001b[39m::lag()\n",
            "\n"
          ]
        }
      ]
    },
    {
      "cell_type": "markdown",
      "source": [
        "## Los datos\n",
        "\n",
        "1. Los datos para descarga estan [acá](https://github.com/Cruzalirio/Unal-Enfermeria-/blob/main/Datos/survey.csv)\n",
        "\n",
        "2. Tambien se pueden importar directo desde R con este código"
      ],
      "metadata": {
        "id": "M1lU0BXq57pd"
      }
    },
    {
      "cell_type": "code",
      "source": [
        "url =\"https://raw.githubusercontent.com/Cruzalirio/Unal-Enfermeria-/main/Datos/survey.csv\"\n",
        "datos = read_csv(url)\n",
        "head(datos)"
      ],
      "metadata": {
        "id": "pXzc_2Eo6vlJ",
        "colab": {
          "base_uri": "https://localhost:8080/",
          "height": 671
        },
        "outputId": "a8cd470d-fa88-4af5-b89b-2abefdf833eb"
      },
      "execution_count": 3,
      "outputs": [
        {
          "output_type": "stream",
          "name": "stderr",
          "text": [
            "\u001b[1mRows: \u001b[22m\u001b[34m1259\u001b[39m \u001b[1mColumns: \u001b[22m\u001b[34m27\u001b[39m\n",
            "\u001b[36m──\u001b[39m \u001b[1mColumn specification\u001b[22m \u001b[36m────────────────────────────────────────────────────────\u001b[39m\n",
            "\u001b[1mDelimiter:\u001b[22m \",\"\n",
            "\u001b[31mchr\u001b[39m  (25): Gender, Country, state, self_employed, family_history, treatment,...\n",
            "\u001b[32mdbl\u001b[39m   (1): Age\n",
            "\u001b[34mdttm\u001b[39m  (1): Timestamp\n",
            "\n",
            "\u001b[36mℹ\u001b[39m Use `spec()` to retrieve the full column specification for this data.\n",
            "\u001b[36mℹ\u001b[39m Specify the column types or set `show_col_types = FALSE` to quiet this message.\n"
          ]
        },
        {
          "output_type": "display_data",
          "data": {
            "text/html": [
              "<table class=\"dataframe\">\n",
              "<caption>A tibble: 6 × 27</caption>\n",
              "<thead>\n",
              "\t<tr><th scope=col>Timestamp</th><th scope=col>Age</th><th scope=col>Gender</th><th scope=col>Country</th><th scope=col>state</th><th scope=col>self_employed</th><th scope=col>family_history</th><th scope=col>treatment</th><th scope=col>work_interfere</th><th scope=col>no_employees</th><th scope=col>⋯</th><th scope=col>leave</th><th scope=col>mental_health_consequence</th><th scope=col>phys_health_consequence</th><th scope=col>coworkers</th><th scope=col>supervisor</th><th scope=col>mental_health_interview</th><th scope=col>phys_health_interview</th><th scope=col>mental_vs_physical</th><th scope=col>obs_consequence</th><th scope=col>comments</th></tr>\n",
              "\t<tr><th scope=col>&lt;dttm&gt;</th><th scope=col>&lt;dbl&gt;</th><th scope=col>&lt;chr&gt;</th><th scope=col>&lt;chr&gt;</th><th scope=col>&lt;chr&gt;</th><th scope=col>&lt;chr&gt;</th><th scope=col>&lt;chr&gt;</th><th scope=col>&lt;chr&gt;</th><th scope=col>&lt;chr&gt;</th><th scope=col>&lt;chr&gt;</th><th scope=col>⋯</th><th scope=col>&lt;chr&gt;</th><th scope=col>&lt;chr&gt;</th><th scope=col>&lt;chr&gt;</th><th scope=col>&lt;chr&gt;</th><th scope=col>&lt;chr&gt;</th><th scope=col>&lt;chr&gt;</th><th scope=col>&lt;chr&gt;</th><th scope=col>&lt;chr&gt;</th><th scope=col>&lt;chr&gt;</th><th scope=col>&lt;chr&gt;</th></tr>\n",
              "</thead>\n",
              "<tbody>\n",
              "\t<tr><td>2014-08-27 11:29:31</td><td>37</td><td>Female</td><td>United States </td><td>IL</td><td>NA</td><td>No </td><td>Yes</td><td>Often    </td><td>6-25          </td><td>⋯</td><td>Somewhat easy     </td><td>No   </td><td>No </td><td>Some of them</td><td>Yes</td><td>No   </td><td>Maybe</td><td>Yes       </td><td>No </td><td>NA</td></tr>\n",
              "\t<tr><td>2014-08-27 11:29:37</td><td>44</td><td>M     </td><td>United States </td><td>IN</td><td>NA</td><td>No </td><td>No </td><td>Rarely   </td><td>More than 1000</td><td>⋯</td><td>Don't know        </td><td>Maybe</td><td>No </td><td>No          </td><td>No </td><td>No   </td><td>No   </td><td>Don't know</td><td>No </td><td>NA</td></tr>\n",
              "\t<tr><td>2014-08-27 11:29:44</td><td>32</td><td>Male  </td><td>Canada        </td><td>NA</td><td>NA</td><td>No </td><td>No </td><td>Rarely   </td><td>6-25          </td><td>⋯</td><td>Somewhat difficult</td><td>No   </td><td>No </td><td>Yes         </td><td>Yes</td><td>Yes  </td><td>Yes  </td><td>No        </td><td>No </td><td>NA</td></tr>\n",
              "\t<tr><td>2014-08-27 11:29:46</td><td>31</td><td>Male  </td><td>United Kingdom</td><td>NA</td><td>NA</td><td>Yes</td><td>Yes</td><td>Often    </td><td>26-100        </td><td>⋯</td><td>Somewhat difficult</td><td>Yes  </td><td>Yes</td><td>Some of them</td><td>No </td><td>Maybe</td><td>Maybe</td><td>No        </td><td>Yes</td><td>NA</td></tr>\n",
              "\t<tr><td>2014-08-27 11:30:22</td><td>31</td><td>Male  </td><td>United States </td><td>TX</td><td>NA</td><td>No </td><td>No </td><td>Never    </td><td>100-500       </td><td>⋯</td><td>Don't know        </td><td>No   </td><td>No </td><td>Some of them</td><td>Yes</td><td>Yes  </td><td>Yes  </td><td>Don't know</td><td>No </td><td>NA</td></tr>\n",
              "\t<tr><td>2014-08-27 11:31:22</td><td>33</td><td>Male  </td><td>United States </td><td>TN</td><td>NA</td><td>Yes</td><td>No </td><td>Sometimes</td><td>6-25          </td><td>⋯</td><td>Don't know        </td><td>No   </td><td>No </td><td>Yes         </td><td>Yes</td><td>No   </td><td>Maybe</td><td>Don't know</td><td>No </td><td>NA</td></tr>\n",
              "</tbody>\n",
              "</table>\n"
            ],
            "text/markdown": "\nA tibble: 6 × 27\n\n| Timestamp &lt;dttm&gt; | Age &lt;dbl&gt; | Gender &lt;chr&gt; | Country &lt;chr&gt; | state &lt;chr&gt; | self_employed &lt;chr&gt; | family_history &lt;chr&gt; | treatment &lt;chr&gt; | work_interfere &lt;chr&gt; | no_employees &lt;chr&gt; | ⋯ ⋯ | leave &lt;chr&gt; | mental_health_consequence &lt;chr&gt; | phys_health_consequence &lt;chr&gt; | coworkers &lt;chr&gt; | supervisor &lt;chr&gt; | mental_health_interview &lt;chr&gt; | phys_health_interview &lt;chr&gt; | mental_vs_physical &lt;chr&gt; | obs_consequence &lt;chr&gt; | comments &lt;chr&gt; |\n|---|---|---|---|---|---|---|---|---|---|---|---|---|---|---|---|---|---|---|---|---|\n| 2014-08-27 11:29:31 | 37 | Female | United States  | IL | NA | No  | Yes | Often     | 6-25           | ⋯ | Somewhat easy      | No    | No  | Some of them | Yes | No    | Maybe | Yes        | No  | NA |\n| 2014-08-27 11:29:37 | 44 | M      | United States  | IN | NA | No  | No  | Rarely    | More than 1000 | ⋯ | Don't know         | Maybe | No  | No           | No  | No    | No    | Don't know | No  | NA |\n| 2014-08-27 11:29:44 | 32 | Male   | Canada         | NA | NA | No  | No  | Rarely    | 6-25           | ⋯ | Somewhat difficult | No    | No  | Yes          | Yes | Yes   | Yes   | No         | No  | NA |\n| 2014-08-27 11:29:46 | 31 | Male   | United Kingdom | NA | NA | Yes | Yes | Often     | 26-100         | ⋯ | Somewhat difficult | Yes   | Yes | Some of them | No  | Maybe | Maybe | No         | Yes | NA |\n| 2014-08-27 11:30:22 | 31 | Male   | United States  | TX | NA | No  | No  | Never     | 100-500        | ⋯ | Don't know         | No    | No  | Some of them | Yes | Yes   | Yes   | Don't know | No  | NA |\n| 2014-08-27 11:31:22 | 33 | Male   | United States  | TN | NA | Yes | No  | Sometimes | 6-25           | ⋯ | Don't know         | No    | No  | Yes          | Yes | No    | Maybe | Don't know | No  | NA |\n\n",
            "text/latex": "A tibble: 6 × 27\n\\begin{tabular}{lllllllllllllllllllll}\n Timestamp & Age & Gender & Country & state & self\\_employed & family\\_history & treatment & work\\_interfere & no\\_employees & ⋯ & leave & mental\\_health\\_consequence & phys\\_health\\_consequence & coworkers & supervisor & mental\\_health\\_interview & phys\\_health\\_interview & mental\\_vs\\_physical & obs\\_consequence & comments\\\\\n <dttm> & <dbl> & <chr> & <chr> & <chr> & <chr> & <chr> & <chr> & <chr> & <chr> & ⋯ & <chr> & <chr> & <chr> & <chr> & <chr> & <chr> & <chr> & <chr> & <chr> & <chr>\\\\\n\\hline\n\t 2014-08-27 11:29:31 & 37 & Female & United States  & IL & NA & No  & Yes & Often     & 6-25           & ⋯ & Somewhat easy      & No    & No  & Some of them & Yes & No    & Maybe & Yes        & No  & NA\\\\\n\t 2014-08-27 11:29:37 & 44 & M      & United States  & IN & NA & No  & No  & Rarely    & More than 1000 & ⋯ & Don't know         & Maybe & No  & No           & No  & No    & No    & Don't know & No  & NA\\\\\n\t 2014-08-27 11:29:44 & 32 & Male   & Canada         & NA & NA & No  & No  & Rarely    & 6-25           & ⋯ & Somewhat difficult & No    & No  & Yes          & Yes & Yes   & Yes   & No         & No  & NA\\\\\n\t 2014-08-27 11:29:46 & 31 & Male   & United Kingdom & NA & NA & Yes & Yes & Often     & 26-100         & ⋯ & Somewhat difficult & Yes   & Yes & Some of them & No  & Maybe & Maybe & No         & Yes & NA\\\\\n\t 2014-08-27 11:30:22 & 31 & Male   & United States  & TX & NA & No  & No  & Never     & 100-500        & ⋯ & Don't know         & No    & No  & Some of them & Yes & Yes   & Yes   & Don't know & No  & NA\\\\\n\t 2014-08-27 11:31:22 & 33 & Male   & United States  & TN & NA & Yes & No  & Sometimes & 6-25           & ⋯ & Don't know         & No    & No  & Yes          & Yes & No    & Maybe & Don't know & No  & NA\\\\\n\\end{tabular}\n",
            "text/plain": [
              "  Timestamp           Age Gender Country        state self_employed\n",
              "1 2014-08-27 11:29:31 37  Female United States  IL    NA           \n",
              "2 2014-08-27 11:29:37 44  M      United States  IN    NA           \n",
              "3 2014-08-27 11:29:44 32  Male   Canada         NA    NA           \n",
              "4 2014-08-27 11:29:46 31  Male   United Kingdom NA    NA           \n",
              "5 2014-08-27 11:30:22 31  Male   United States  TX    NA           \n",
              "6 2014-08-27 11:31:22 33  Male   United States  TN    NA           \n",
              "  family_history treatment work_interfere no_employees   ⋯ leave             \n",
              "1 No             Yes       Often          6-25           ⋯ Somewhat easy     \n",
              "2 No             No        Rarely         More than 1000 ⋯ Don't know        \n",
              "3 No             No        Rarely         6-25           ⋯ Somewhat difficult\n",
              "4 Yes            Yes       Often          26-100         ⋯ Somewhat difficult\n",
              "5 No             No        Never          100-500        ⋯ Don't know        \n",
              "6 Yes            No        Sometimes      6-25           ⋯ Don't know        \n",
              "  mental_health_consequence phys_health_consequence coworkers    supervisor\n",
              "1 No                        No                      Some of them Yes       \n",
              "2 Maybe                     No                      No           No        \n",
              "3 No                        No                      Yes          Yes       \n",
              "4 Yes                       Yes                     Some of them No        \n",
              "5 No                        No                      Some of them Yes       \n",
              "6 No                        No                      Yes          Yes       \n",
              "  mental_health_interview phys_health_interview mental_vs_physical\n",
              "1 No                      Maybe                 Yes               \n",
              "2 No                      No                    Don't know        \n",
              "3 Yes                     Yes                   No                \n",
              "4 Maybe                   Maybe                 No                \n",
              "5 Yes                     Yes                   Don't know        \n",
              "6 No                      Maybe                 Don't know        \n",
              "  obs_consequence comments\n",
              "1 No              NA      \n",
              "2 No              NA      \n",
              "3 No              NA      \n",
              "4 Yes             NA      \n",
              "5 No              NA      \n",
              "6 No              NA      "
            ]
          },
          "metadata": {}
        }
      ]
    },
    {
      "cell_type": "markdown",
      "source": [
        "## Taller \n",
        "**Las siguientes preguntas deben entregarse en un archivo de Word o PDF, junto a un archivo de R con los códigos utilizados. Deben usarse pruebas Chi cuadrado, o test exacto de Fisher, coeficiente de contigencia, Tambien razones de Odds y Razones de riesgo, tambien debe discutirse porque sí o porque no se ve relación. ** \n",
        "\n",
        "1. ¿Existe relación entre el trabajo remoto y la asistencia a tratamientos de salud mental?\n",
        "2. ¿Existe relación entre trabajo remoto y sí la compañia es de tecnología?\n",
        "3. Tener un antecedente familiar de enfermedades mentales, ¿aumenta el riesgo de tener un tratamiento de salud mental?\n",
        "4. Haber visto consecuencias negativos en el trabajo sobre las personas que presentan problemas de salud mental ¿aumenta el riesgo de no hablar con el supervisor sobre los problemas de salud mental (Recategorice la variable en No (No y Some of them) y Sí (Yes)?\n",
        "5. ¿La respuesta anterior cambia sí hago el analisis solo para las personas con trabajo presencial?\n",
        "6. ¿Existe relación entre consecuencias fisicas y consecuencias mentales?"
      ],
      "metadata": {
        "id": "kor3f3Nt7Qys"
      }
    },
    {
      "cell_type": "markdown",
      "source": [
        "**Recordando el taller pasado**\n",
        "\n",
        "*¿Qué pruebas usaría en estos problemas? Realice la prueba y concluya\n",
        "\n",
        "1. Realice un tabla de contingencia de la variable coworkers y supervisor. ¿Cree que existe una relación entre las variables?\n",
        "\n",
        "2. La gente busca ayuda psicologica solo si siente que la salud mental afecta su trabajo.\n",
        "\n",
        "3. Entre más grande la empresa, más beneficios y programas para la salud mental.\n",
        "\n",
        "4. El trabajo remoto disminuye la confianza para hablar de salud mental. \n"
      ],
      "metadata": {
        "id": "5YX83-9tx9cx"
      }
    },
    {
      "cell_type": "markdown",
      "source": [
        "## Códigos de ayuda\n"
      ],
      "metadata": {
        "id": "iXpcRC378Zm6"
      }
    },
    {
      "cell_type": "code",
      "source": [
        "## Si se quiere ordenar una variable, por ejemplo mental_health_interview\n",
        "datos %>% group_by(mental_health_interview) %>% count()\n",
        "\n",
        "### Deberia estar mejor en el orden NO -- Maybe -- Yes"
      ],
      "metadata": {
        "id": "RoFpEfjA8cni"
      },
      "execution_count": null,
      "outputs": []
    },
    {
      "cell_type": "code",
      "source": [
        "### Deben ejecutarse este codigo\n",
        "### MHI es el nombre de la variable que quiero crear\n",
        "\n",
        "datos = datos %>% mutate(MHI= factor(mental_health_interview, \n",
        "                                    levels = c(\"No\", \"Maybe\", \"Yes\"),\n",
        "                                     ordered=TRUE))\n",
        "\n",
        "datos %>% group_by(MHI) %>% count()\n",
        "\n",
        "### Debe tenerse especial cuidado en:\n",
        "### 1. QUe los nombres de los niveles sean iguales a los que ya existen en los datos\n",
        "### 2. Colocar un nombre facilmente reconocible a los datos"
      ],
      "metadata": {
        "id": "EkK_sdwz8zYx"
      },
      "execution_count": null,
      "outputs": []
    }
  ]
}